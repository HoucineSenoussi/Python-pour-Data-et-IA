{
 "cells": [
  {
   "cell_type": "markdown",
   "id": "93251e49",
   "metadata": {},
   "source": [
    "<table>\n",
    "  <tr>\n",
    "    <th style=\"background-color:#ffe694;\">\n",
    "     <font size=6>Les listes</font>\n",
    "      </th>\n",
    "  </tr>\n",
    "</table>"
   ]
  },
  {
   "cell_type": "markdown",
   "id": "a83d8298",
   "metadata": {},
   "source": [
    "# Créer une liste"
   ]
  },
  {
   "cell_type": "code",
   "execution_count": 67,
   "id": "1beefc1c",
   "metadata": {},
   "outputs": [],
   "source": [
    "#On peut créer une liste vide\n",
    "l1 = []\n",
    "#On peut créer une liste en donnant explicitement ses éléments.\n",
    "l2 = [1,2,3,4]\n",
    "#On peut créer une liste en appliquant le mot réservé list\n",
    "l4 = list((1, 0, 2, 0, 3, 0, 4)) \n",
    "l5 = list(range(5,14))\n",
    "#On peut créer une liste en appliquant une fonction à une séquence (une autre liste) d'élements.\n",
    "l6 = [x**2 for x in range(1,10)]\n",
    "#On peut créer une liste en répétant un élément un nombre déterminé de fois\n",
    "l7 = ['a']*5\n",
    "#Une liste peut être hétérogène (éléments de types différents)\n",
    "l3 = [1, \"aze\", \"rty\", 2]\n",
    "#les éléments d'une liste peuvent être de type 'complexe', ici des couples de caractères.\n",
    "l8 = [('a','c'), ('b','a'), ('b','d'), ('b','e'), ('c','a'), ('c','d'), ('d','c'), ('d','e'), ('e','d'), ('e','f'), ('e','g'),\n",
    "      ('f','e'), ('f','g'), ('g','e'), ('g','f'), ('g','h'), ('h','g')]"
   ]
  },
  {
   "cell_type": "markdown",
   "id": "cf68b374",
   "metadata": {},
   "source": [
    "# Accéder aux éléments d'une liste"
   ]
  },
  {
   "cell_type": "code",
   "execution_count": 68,
   "id": "fd3c998e",
   "metadata": {},
   "outputs": [],
   "source": [
    "elem4 = l4[2] \n",
    "elem6= l6[-1]\n",
    "#On peut extraire une sous liste en précisant les indices de début et de fin ou seulement l'un des deux.\n",
    "lelem5 = l5[2:4]\n",
    "lelem61 = l6[2:]\n",
    "lelem66 = l6[:4]\n"
   ]
  },
  {
   "cell_type": "code",
   "execution_count": 69,
   "id": "b65e6a89",
   "metadata": {},
   "outputs": [
    {
     "name": "stdout",
     "output_type": "stream",
     "text": [
      "Ceci est un élement de l2: 2  et celle-là est une sous-suite de l5:  [7, 8]\n"
     ]
    }
   ],
   "source": [
    "print('Ceci est un élement de l2:', elem4, ' et celle-là est une sous-suite de l5: ',elem5)"
   ]
  },
  {
   "cell_type": "markdown",
   "id": "858a2b52",
   "metadata": {},
   "source": [
    "# Propriétés d'une liste"
   ]
  },
  {
   "cell_type": "code",
   "execution_count": 70,
   "id": "a4218957",
   "metadata": {},
   "outputs": [
    {
     "name": "stdout",
     "output_type": "stream",
     "text": [
      "La longueur de la liste l6 est: 9\n",
      "La liste n'est pas vide.\n",
      "1  est un carré parfait.\n",
      "4  est un carré parfait.\n",
      "9  est un carré parfait.\n",
      "16  est un carré parfait.\n",
      "25  est un carré parfait.\n",
      "36  est un carré parfait.\n",
      "49  est un carré parfait.\n",
      "64  est un carré parfait.\n",
      "81  est un carré parfait.\n"
     ]
    }
   ],
   "source": [
    "lng = len(l6)\n",
    "print('La longueur de la liste l6 est:',lng)\n",
    "#Est-ce qu'une liste est vide?\n",
    "if (l6==[]):\n",
    "  print('La liste est vide.')\n",
    "else:\n",
    "  print('La liste n\\'est pas vide.')\n",
    "#Appartenance d'un élément à une liste\n",
    "for i in range(100):\n",
    "  if (i in l6):\n",
    "    print(i, ' est un carré parfait.')\n",
    "#Position d'un élément dans une liste"
   ]
  },
  {
   "cell_type": "markdown",
   "id": "3bc36ad1",
   "metadata": {},
   "source": [
    "# Modifier une liste"
   ]
  },
  {
   "cell_type": "code",
   "execution_count": 72,
   "id": "879faf65",
   "metadata": {},
   "outputs": [
    {
     "name": "stdout",
     "output_type": "stream",
     "text": [
      "Avant mise à jour: \n",
      "l2= [1, 2, 3, 4, 5] \n",
      "l6= [1, 0, 9, 16, 25, 36, 49, 64, 81] \n",
      "l4= [1, 2, 0, 3, 0, 4] \n",
      "l7= ['a', 'a', 'b', 'a', 'a', 'a'] \n",
      "l5= [5, 6, 7, 9, 10, 11, 12, 13] \n",
      "l3= [1, 'aze', 'rty', 2]\n",
      "Après mise à jour: \n",
      "l2= [1, 2, 3, 4, 5, 5] \n",
      "l6= [1, 0, 9, 16, 25, 36, 49, 64, 81] \n",
      "l4= [1, 2, 3, 0, 4] \n",
      "l7= ['a', 'a', 'b', 'b', 'a', 'a', 'a'] \n",
      "l5= [5, 6, 7, 10, 11, 12, 13] \n",
      "l3= [1, 2]\n"
     ]
    }
   ],
   "source": [
    "print('Avant mise à jour: \\nl2=',l2,'\\nl6=',l6,'\\nl4=',l4,'\\nl7=',l7,'\\nl5=',l5,'\\nl3=',l3)\n",
    "#Ajout d'un élément en fin de liste\n",
    "l2.append(5)\n",
    "#Changer la valeur d'un élément\n",
    "l6[1] = 0\n",
    "#Insérer une valeur (deuxième paramètre) à une position donnée (premier paramètre)\n",
    "l7.insert(2,'b')\n",
    "#Supprimer la première occurence d'une valeur\n",
    "l4.remove(0)\n",
    "#Supprimer l'élement occupant une position donnée\n",
    "l5.pop(3)\n",
    "#Supprimer une liste ou une sous-liste\n",
    "del(l3[1:3])\n",
    "print('Après mise à jour: \\nl2=',l2,'\\nl6=',l6,'\\nl4=',l4,'\\nl7=',l7,'\\nl5=',l5,'\\nl3=',l3)"
   ]
  },
  {
   "cell_type": "markdown",
   "id": "618bf92c",
   "metadata": {},
   "source": [
    "# Boucler sur une liste"
   ]
  },
  {
   "cell_type": "code",
   "execution_count": 73,
   "id": "bcc785df",
   "metadata": {},
   "outputs": [
    {
     "name": "stdout",
     "output_type": "stream",
     "text": [
      "('a', 'c')\n",
      "('b', 'a')\n",
      "('b', 'd')\n",
      "('b', 'e')\n",
      "('c', 'a')\n",
      "('c', 'd')\n",
      "('d', 'c')\n",
      "('d', 'e')\n",
      "('e', 'd')\n",
      "('e', 'f')\n",
      "('e', 'g')\n",
      "('f', 'e')\n",
      "('f', 'g')\n",
      "('g', 'e')\n",
      "('g', 'f')\n",
      "('g', 'h')\n",
      "('h', 'g')\n",
      "('a', 'c')\n",
      "('b', 'a')\n",
      "('b', 'd')\n",
      "('b', 'e')\n",
      "('c', 'a')\n",
      "('c', 'd')\n",
      "('d', 'c')\n",
      "('d', 'e')\n",
      "('e', 'd')\n",
      "('e', 'f')\n",
      "('e', 'g')\n",
      "('f', 'e')\n",
      "('f', 'g')\n",
      "('g', 'e')\n",
      "('g', 'f')\n",
      "('g', 'h')\n",
      "('h', 'g')\n"
     ]
    }
   ],
   "source": [
    "for a in l8:\n",
    "   print(a)\n"
   ]
  },
  {
   "cell_type": "code",
   "execution_count": 74,
   "id": "47d3bb87",
   "metadata": {},
   "outputs": [
    {
     "name": "stdout",
     "output_type": "stream",
     "text": [
      "('a', 'c')\n",
      "('b', 'a')\n",
      "('b', 'd')\n",
      "('b', 'e')\n",
      "('c', 'a')\n",
      "('c', 'd')\n",
      "('d', 'c')\n",
      "('d', 'e')\n",
      "('e', 'd')\n",
      "('e', 'f')\n",
      "('e', 'g')\n",
      "('f', 'e')\n",
      "('f', 'g')\n",
      "('g', 'e')\n",
      "('g', 'f')\n",
      "('g', 'h')\n",
      "('h', 'g')\n"
     ]
    }
   ],
   "source": [
    "for i in range(len(l8)):\n",
    "   print(l8[i])"
   ]
  },
  {
   "cell_type": "markdown",
   "id": "7643806b",
   "metadata": {},
   "source": [
    "# Compter le nombre d'occurrences d'un élément dans une liste"
   ]
  },
  {
   "cell_type": "code",
   "execution_count": 5,
   "id": "fa9ddf5f",
   "metadata": {},
   "outputs": [
    {
     "name": "stdout",
     "output_type": "stream",
     "text": [
      "We have:  4 C1, 2 C2, and 4 C3.\n"
     ]
    }
   ],
   "source": [
    "lst_cls = ['C3', 'C1', 'C1', 'C3', 'C2', 'C1', 'C2', 'C3', 'C3', 'C1']\n",
    "nb_C1 = lst_cls.count('C1')\n",
    "nb_C2 = lst_cls.count('C2')\n",
    "nb_C3 = lst_cls.count('C3')\n",
    "print('We have: ',nb_C1, 'C1,',nb_C2, 'C2, and', nb_C3, 'C3.')"
   ]
  },
  {
   "cell_type": "markdown",
   "id": "dd1bd196",
   "metadata": {},
   "source": [
    "# Mélanger et trier une liste"
   ]
  },
  {
   "cell_type": "code",
   "execution_count": 84,
   "id": "76fb4d6d",
   "metadata": {},
   "outputs": [
    {
     "data": {
      "text/plain": [
       "[5, 1, 3, 4, 5, 2]"
      ]
     },
     "execution_count": 84,
     "metadata": {},
     "output_type": "execute_result"
    }
   ],
   "source": [
    "from random import shuffle\n",
    "shuffle(l2)\n",
    "l2"
   ]
  },
  {
   "cell_type": "code",
   "execution_count": 85,
   "id": "adb1eea2",
   "metadata": {},
   "outputs": [
    {
     "data": {
      "text/plain": [
       "[1, 2, 3, 4, 5, 5]"
      ]
     },
     "execution_count": 85,
     "metadata": {},
     "output_type": "execute_result"
    }
   ],
   "source": [
    "#On peut utiliser la méthode sort(), qui est propres aux listes\n",
    "l2.sort()\n",
    "l2"
   ]
  },
  {
   "cell_type": "code",
   "execution_count": 86,
   "id": "b7416683",
   "metadata": {},
   "outputs": [
    {
     "data": {
      "text/plain": [
       "[5, 5, 4, 3, 2, 1]"
      ]
     },
     "execution_count": 86,
     "metadata": {},
     "output_type": "execute_result"
    }
   ],
   "source": [
    "l2.sort(reverse=True)\n",
    "l2"
   ]
  },
  {
   "cell_type": "markdown",
   "id": "65546515",
   "metadata": {},
   "source": [
    "## On peut aussi utiliser la fonction [sorted()](http://localhost:8888/notebooks/Python4AI/forSort.ipynb) qui s'applique à tous les itérables (on la retrouvera avec les dictionnaires)\n",
    "\n"
   ]
  },
  {
   "cell_type": "markdown",
   "id": "a9b6232b",
   "metadata": {},
   "source": [
    "# Exercices:\n",
    "## Exercice 1\n",
    "En considérant que la liste l8 comme celle des arcs d'un graphe orienté, écrire un code Python permettant de:\n",
    "### afficher la liste des sommet du graphe."
   ]
  },
  {
   "cell_type": "markdown",
   "id": "9897e835",
   "metadata": {},
   "source": [
    "On peut aussi utiliser [lien](www.lemonde.fr)"
   ]
  },
  {
   "cell_type": "code",
   "execution_count": null,
   "id": "08143545",
   "metadata": {},
   "outputs": [],
   "source": []
  }
 ],
 "metadata": {
  "kernelspec": {
   "display_name": "Python 3 (ipykernel)",
   "language": "python",
   "name": "python3"
  },
  "language_info": {
   "codemirror_mode": {
    "name": "ipython",
    "version": 3
   },
   "file_extension": ".py",
   "mimetype": "text/x-python",
   "name": "python",
   "nbconvert_exporter": "python",
   "pygments_lexer": "ipython3",
   "version": "3.10.9"
  },
  "toc": {
   "base_numbering": 1,
   "nav_menu": {},
   "number_sections": true,
   "sideBar": true,
   "skip_h1_title": false,
   "title_cell": "Table of Contents",
   "title_sidebar": "Contents",
   "toc_cell": false,
   "toc_position": {
    "height": "calc(100% - 180px)",
    "left": "10px",
    "top": "150px",
    "width": "303.825px"
   },
   "toc_section_display": true,
   "toc_window_display": true
  }
 },
 "nbformat": 4,
 "nbformat_minor": 5
}
