{
 "cells": [
  {
   "cell_type": "markdown",
   "id": "64c2ad72",
   "metadata": {},
   "source": [
    "<table>\n",
    "  <tr>\n",
    "    <th style=\"background-color:#ffe694;\">\n",
    "     \n",
    "<font size=6> Les tableaux uni et multi-dimentionnels (1)</font>\n",
    "      </th>\n",
    "  </tr>\n",
    "</table>"
   ]
  },
  {
   "cell_type": "markdown",
   "id": "083692fa",
   "metadata": {},
   "source": [
    "## Le module <font color='blue'>numpy</font> contient les éléments nécessaires pour manipuler <font color='green'>vecteurs</font>, <font color='green'>matrices</font>, et tableaux de <font color='green'>dimension supérieure</font>.\n"
   ]
  },
  {
   "cell_type": "code",
   "execution_count": 2,
   "id": "31c65350",
   "metadata": {},
   "outputs": [],
   "source": [
    "import numpy as np"
   ]
  },
  {
   "cell_type": "markdown",
   "id": "e77090b9",
   "metadata": {},
   "source": [
    "## Définition d'un tableau"
   ]
  },
  {
   "cell_type": "code",
   "execution_count": 3,
   "id": "7daa4ade",
   "metadata": {},
   "outputs": [],
   "source": [
    "vec = np.array([1,7,3])\n",
    "vec"
   ]
  },
  {
   "cell_type": "code",
   "execution_count": 6,
   "id": "0d56dc51",
   "metadata": {},
   "outputs": [],
   "source": [
    "mat = np.array([[2,0,3], [4,-7,1], [-5,1,-8], [0,2,0]])\n",
    "mat"
   ]
  },
  {
   "cell_type": "markdown",
   "id": "fd276faf",
   "metadata": {},
   "source": [
    "## Premières propriétés d'un tableau"
   ]
  },
  {
   "cell_type": "code",
   "execution_count": 8,
   "id": "122af4db",
   "metadata": {},
   "outputs": [],
   "source": [
    "mat.shape"
   ]
  },
  {
   "cell_type": "code",
   "execution_count": 9,
   "id": "ec0c74d9",
   "metadata": {},
   "outputs": [],
   "source": [
    "nbl = mat.shape[0]\n",
    "nbc = mat.shape[1]\n",
    "print('La matrice a ',nbl,' lignes et ',nbc,' colonnes.')"
   ]
  },
  {
   "cell_type": "code",
   "execution_count": 10,
   "id": "863abf3b",
   "metadata": {},
   "outputs": [],
   "source": [
    "sz = mat.size\n",
    "sz"
   ]
  },
  {
   "cell_type": "code",
   "execution_count": 11,
   "id": "eb387dc9",
   "metadata": {},
   "outputs": [],
   "source": [
    "nd = mat.ndim\n",
    "nd"
   ]
  },
  {
   "cell_type": "markdown",
   "id": "f97bb611",
   "metadata": {},
   "source": [
    "## Accéder aux éléments d'un tableau"
   ]
  },
  {
   "cell_type": "code",
   "execution_count": 25,
   "id": "0b28267a",
   "metadata": {},
   "outputs": [
    {
     "name": "stdout",
     "output_type": "stream",
     "text": [
      "Somme des éléments de la matrice =  -7\n"
     ]
    }
   ],
   "source": [
    "#Calcul de la somme des éléments de la matrice\n",
    "s = 0\n",
    "for i in range(nbl):\n",
    "  for j in range(nbc):\n",
    "    s = s+mat[i,j]\n",
    "    \n",
    "print('Somme des éléments de la matrice = ',s)"
   ]
  },
  {
   "cell_type": "code",
   "execution_count": 26,
   "id": "44537926",
   "metadata": {},
   "outputs": [
    {
     "data": {
      "text/plain": [
       "array([[2, 0, 3],\n",
       "       [4, 0, 1],\n",
       "       [0, 1, 0],\n",
       "       [0, 2, 0]])"
      ]
     },
     "execution_count": 26,
     "metadata": {},
     "output_type": "execute_result"
    }
   ],
   "source": [
    "#Remplacer tous les éléments négatifs à un seuil par 0\n",
    "for i in range(nbl):\n",
    "  for j in range(nbc):\n",
    "    if mat[i,j]<0:\n",
    "      mat[i,j]=0.0\n",
    "    \n",
    "mat"
   ]
  },
  {
   "cell_type": "code",
   "execution_count": 27,
   "id": "8f847d88",
   "metadata": {},
   "outputs": [
    {
     "data": {
      "text/plain": [
       "array([4, 0, 1])"
      ]
     },
     "execution_count": 27,
     "metadata": {},
     "output_type": "execute_result"
    }
   ],
   "source": [
    "#Extraction d'un colonne\n",
    "vl = mat[1]\n",
    "vl"
   ]
  },
  {
   "cell_type": "code",
   "execution_count": 28,
   "id": "82e46831",
   "metadata": {},
   "outputs": [
    {
     "data": {
      "text/plain": [
       "array([3, 1, 0, 0])"
      ]
     },
     "execution_count": 28,
     "metadata": {},
     "output_type": "execute_result"
    }
   ],
   "source": [
    "#Extraction d'un colonne\n",
    "vc = mat[:,2]\n",
    "vc"
   ]
  },
  {
   "cell_type": "code",
   "execution_count": 11,
   "id": "57f514ee",
   "metadata": {},
   "outputs": [
    {
     "data": {
      "text/plain": [
       "array([[2, 0],\n",
       "       [4, 0],\n",
       "       [0, 1]])"
      ]
     },
     "execution_count": 11,
     "metadata": {},
     "output_type": "execute_result"
    }
   ],
   "source": [
    "#Plus généralement extraction d'un sous-tableau\n",
    "st1 = mat[0:3,0:2]\n",
    "st1"
   ]
  },
  {
   "cell_type": "code",
   "execution_count": 12,
   "id": "e03aaed7",
   "metadata": {},
   "outputs": [],
   "source": [
    "#On peut aussi extraire des lignes ou des colonnes non consécutives\n",
    "st2 = mat[[0,2,3],:]"
   ]
  },
  {
   "cell_type": "code",
   "execution_count": 13,
   "id": "f59729e4",
   "metadata": {},
   "outputs": [
    {
     "data": {
      "text/plain": [
       "array([[2, 0, 3],\n",
       "       [0, 1, 0],\n",
       "       [0, 2, 0]])"
      ]
     },
     "execution_count": 13,
     "metadata": {},
     "output_type": "execute_result"
    }
   ],
   "source": [
    "st2"
   ]
  },
  {
   "cell_type": "markdown",
   "id": "0f0ce147",
   "metadata": {},
   "source": [
    "## Création de tableaux particuliers (identité, tableaux de 1, tableau de 0)"
   ]
  },
  {
   "cell_type": "code",
   "execution_count": 14,
   "id": "1068f7c2",
   "metadata": {},
   "outputs": [
    {
     "data": {
      "text/plain": [
       "array([[1., 0., 0., 0.],\n",
       "       [0., 1., 0., 0.],\n",
       "       [0., 0., 1., 0.],\n",
       "       [0., 0., 0., 1.]])"
      ]
     },
     "execution_count": 14,
     "metadata": {},
     "output_type": "execute_result"
    }
   ],
   "source": [
    "I = np.identity(4)\n",
    "I"
   ]
  },
  {
   "cell_type": "code",
   "execution_count": 16,
   "id": "2005319a",
   "metadata": {},
   "outputs": [
    {
     "data": {
      "text/plain": [
       "array([[0., 0., 0., 0.],\n",
       "       [0., 0., 0., 0.],\n",
       "       [0., 0., 0., 0.]])"
      ]
     },
     "execution_count": 16,
     "metadata": {},
     "output_type": "execute_result"
    }
   ],
   "source": [
    "mat0 = np.zeros([3,4])\n",
    "mat0"
   ]
  },
  {
   "cell_type": "code",
   "execution_count": 19,
   "id": "1f478479",
   "metadata": {},
   "outputs": [
    {
     "data": {
      "text/plain": [
       "array([[1., 1., 1.],\n",
       "       [1., 1., 1.]])"
      ]
     },
     "execution_count": 19,
     "metadata": {},
     "output_type": "execute_result"
    }
   ],
   "source": [
    "mat1 = np.ones([2,3])\n",
    "mat1"
   ]
  },
  {
   "cell_type": "markdown",
   "id": "3eb458c9",
   "metadata": {},
   "source": [
    "## Création de tableaux de nombres aléatoires: Voir [ce chapitre](forRandom.ipynb)"
   ]
  },
  {
   "cell_type": "markdown",
   "id": "211e0efa",
   "metadata": {},
   "source": [
    "## Création d'un tableau à partir d'un fichier texte"
   ]
  },
  {
   "cell_type": "code",
   "execution_count": 35,
   "id": "f82d04d3",
   "metadata": {},
   "outputs": [
    {
     "name": "stdout",
     "output_type": "stream",
     "text": [
      "Le tableau lu contient  25137  valeurs réparties sur  1197  lignes et  21  colonnes\n"
     ]
    }
   ],
   "source": [
    "tab1 = np.loadtxt('data\\\\dataset1.txt')\n",
    "nbl = tab1.shape[0]\n",
    "nbc = tab1.shape[1]\n",
    "print('Le tableau lu contient ',nbl*nbc,' valeurs réparties sur ',nbl,' lignes et ',nbc,' colonnes')"
   ]
  },
  {
   "cell_type": "markdown",
   "id": "20c89522",
   "metadata": {},
   "source": [
    "### La fonction <font color='blue'>loadtxt</font> a plusieurs paramètres. Dans l'instruction précédente, nous avons pris les valeurs par défaut de tous les paramètres, notamment le séparateur (pris égal à l'espace). Dans l'instruction suivante, nous modifions les valeurs des paramètres <font color='blue'>skiprows</font> (pour éviter de lire l'entête), <font color='blue'>delimiter</font>, et <font color='blue'>usecols</font> (seuls les 4 colonnes numériques nous intéressent)."
   ]
  },
  {
   "cell_type": "code",
   "execution_count": 38,
   "id": "42e0cd8d",
   "metadata": {},
   "outputs": [
    {
     "name": "stdout",
     "output_type": "stream",
     "text": [
      "Le dataset iris est compsé de  4  variables et  150  observations.\n"
     ]
    }
   ],
   "source": [
    "tab2 = np.loadtxt('data\\\\iris.csv', skiprows=1, delimiter=',', usecols=(0,1,2,3))\n",
    "nbo = tab2.shape[0]\n",
    "nbv = tab2.shape[1]\n",
    "print('Le dataset Iris est composé de ',nbv,' variables et ',nbo,' observations.')"
   ]
  },
  {
   "cell_type": "markdown",
   "id": "275bc4cf",
   "metadata": {},
   "source": [
    "## La suite de ce chapitre est [ici](forArrays2.ipynb)"
   ]
  }
 ],
 "metadata": {
  "kernelspec": {
   "display_name": "Python 3 (ipykernel)",
   "language": "python",
   "name": "python3"
  },
  "language_info": {
   "codemirror_mode": {
    "name": "ipython",
    "version": 3
   },
   "file_extension": ".py",
   "mimetype": "text/x-python",
   "name": "python",
   "nbconvert_exporter": "python",
   "pygments_lexer": "ipython3",
   "version": "3.11.3"
  }
 },
 "nbformat": 4,
 "nbformat_minor": 5
}
