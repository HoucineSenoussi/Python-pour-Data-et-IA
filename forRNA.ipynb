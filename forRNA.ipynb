{
 "cells": [
  {
   "cell_type": "markdown",
   "id": "64c2ad72",
   "metadata": {},
   "source": [
    "<table>\n",
    "  <tr>\n",
    "    <th style=\"background-color:#ffe694;\">\n",
    "     \n",
    "<font size=6> Manipuler un réseau de neurones en Python</font>\n",
    "      </th>\n",
    "  </tr>\n",
    "</table>"
   ]
  },
  {
   "cell_type": "markdown",
   "id": "aa56608f",
   "metadata": {},
   "source": [
    "## Dans ce chapitre  nous expliquons comment créer, entraîner et tester un réseau de neurones stanadard (feedforward et totalement connecté) en Python. Pour ce faire nous avons besoin du module <font color='blue'>keras</font> qui s'appuie sur le module <font color='blue'>tensorflow</font>, mais aussi du module <font color='blue'>sklearn</font>.  L'ensemble de données utilisé dans est *Iris*.  L'objectif est de prédire la classe *Species*."
   ]
  },
  {
   "cell_type": "code",
   "execution_count": 11,
   "id": "31c65350",
   "metadata": {},
   "outputs": [],
   "source": [
    "import pandas as pn\n",
    "from sklearn.model_selection import train_test_split\n",
    "from sklearn.metrics import confusion_matrix\n",
    "from keras.models import Sequential\n",
    "from keras.layers import Dense\n",
    "import numpy as np"
   ]
  },
  {
   "cell_type": "markdown",
   "id": "bfe045d6",
   "metadata": {},
   "source": [
    "## Préparation des données : dans le cas d'un problème de multiclassification à m classes, on transforme les modalités de la classe en m-uplets ayant une seule valeur 1 et toutes les autres valeurs à 0. C'est la représentation one-hot que nous codons \"à la main\" ici mais pour laquelle Python fournit une fonction pré-définie que nous introduisons ailleurs.\n",
    "\n"
   ]
  },
  {
   "cell_type": "code",
   "execution_count": 12,
   "id": "4e74843e",
   "metadata": {},
   "outputs": [],
   "source": [
    "# Encodage des classes\n",
    "def encodeClass(s_class):\n",
    "    if (s_class=='Iris-setosa'):\n",
    "        return [1,0,0]\n",
    "    elif (s_class=='Iris-versicolor'):\n",
    "        return [0,1,0]\n",
    "    else:\n",
    "        return [0,0,1]"
   ]
  },
  {
   "cell_type": "markdown",
   "id": "c83526ac",
   "metadata": {},
   "source": [
    "## Lecture des données et extraction des caractéristiques qui nous serviront dans la définition du RN."
   ]
  },
  {
   "cell_type": "code",
   "execution_count": 13,
   "id": "00511672",
   "metadata": {},
   "outputs": [
    {
     "name": "stdout",
     "output_type": "stream",
     "text": [
      "Nombre de neurones de la couche d'entrée = nombre de variables indépendantes =  4\n",
      "Nombre de neurones de la couche de sortie = nombre de modalités de la classe =  3\n"
     ]
    }
   ],
   "source": [
    "#Lecture des données\n",
    "myData=pn.read_csv('data\\\\iris.csv', sep=',')\n",
    "\n",
    "#Extraction de quelques caractéristiques de l'ensemble de données\n",
    "nbColumns = len(myData.columns)\n",
    "classes = myData['species'].unique().tolist()\n",
    "nbClasses = len(classes)\n",
    "\n",
    "print('Nombre de neurones de la couche d\\'entrée = nombre de variables indépendantes = ',nbColumns-1)\n",
    "print('Nombre de neurones de la couche de sortie = nombre de modalités de la classe = ',nbClasses)"
   ]
  },
  {
   "cell_type": "markdown",
   "id": "722e893f",
   "metadata": {},
   "source": [
    "## Préparation des ensembles d'apprentissage et des test."
   ]
  },
  {
   "cell_type": "code",
   "execution_count": 38,
   "id": "02a075bb",
   "metadata": {},
   "outputs": [],
   "source": [
    "#Nous avons de changer de structures de données en passant d'une dataframe à deux tableaux numpy.\n",
    "X=myData.values[:,:nbColumns-1]\n",
    "X=X.astype('float64')\n",
    "Y=myData.values[:,nbColumns-1]\n",
    "\n",
    "#Encodage des classes\n",
    "encoded_Y = np.array([encodeClass(y) for y in list(Y)])\n",
    "\n",
    "#Création des ensembles d'apprentissage et de test\n",
    "X_train, X_test, Y_train, Y_test = train_test_split( X, encoded_Y, test_size = 0.4, random_state = 100)\n"
   ]
  },
  {
   "cell_type": "markdown",
   "id": "05c614a0",
   "metadata": {},
   "source": [
    "## Création du RNA: création d'un réseau 'vierge' puis ajout des couches une par une."
   ]
  },
  {
   "cell_type": "code",
   "execution_count": 39,
   "id": "1bd7b3c0",
   "metadata": {},
   "outputs": [],
   "source": [
    "#Création d'un RNA vierge\n",
    "nn = Sequential()"
   ]
  },
  {
   "cell_type": "markdown",
   "id": "74657324",
   "metadata": {},
   "source": [
    "## Ajout des couches une par une. Le module keras met à notre disposition une fonction pour chaque type de couches. Ici, nous utilisons exclusivement la fonction *dense* correspondant aux couches du RN stanadrd. Pour ajouter une couche, on précise son nombre de neurones et sa fonction d'activation, et pour la première couche cachée le nombre de ses entrées (càd le nombre de neurones de la couche d'entrée)."
   ]
  },
  {
   "cell_type": "code",
   "execution_count": 40,
   "id": "3a3dfb7e",
   "metadata": {},
   "outputs": [],
   "source": [
    "#Ajout des couches\n",
    "nn.add(Dense(5, input_dim=nbColumns-1, activation='sigmoid'))\n",
    "nn.add(Dense(nbClasses, activation='softmax'))"
   ]
  },
  {
   "cell_type": "markdown",
   "id": "3c22f676",
   "metadata": {},
   "source": [
    "## Affichage d'un \"résumé\" du RN. Ce résumé se présente sous la forme d'un tableau dans lequel chaque ligne correspond à une couche du réseau. La dernière colonne du tableau contient le nombre de paramètres (poids et biais) de chaque couche. On vérifie bien que pour chaque couche ce nombre est égal à n1*(n2+1), où n1 est le nombre de neurones de la couche et n2 celui de la couche précédente."
   ]
  },
  {
   "cell_type": "code",
   "execution_count": 41,
   "id": "b5d2a50a",
   "metadata": {},
   "outputs": [
    {
     "name": "stdout",
     "output_type": "stream",
     "text": [
      "Model: \"sequential_4\"\n",
      "_________________________________________________________________\n",
      " Layer (type)                Output Shape              Param #   \n",
      "=================================================================\n",
      " dense_6 (Dense)             (None, 5)                 25        \n",
      "                                                                 \n",
      " dense_7 (Dense)             (None, 3)                 18        \n",
      "                                                                 \n",
      "=================================================================\n",
      "Total params: 43 (172.00 Byte)\n",
      "Trainable params: 43 (172.00 Byte)\n",
      "Non-trainable params: 0 (0.00 Byte)\n",
      "_________________________________________________________________\n"
     ]
    }
   ],
   "source": [
    "#Affichage d'un \"résumé\" du RNA\n",
    "nn.summary()\n"
   ]
  },
  {
   "cell_type": "markdown",
   "id": "55e0f913",
   "metadata": {},
   "source": [
    "## Avant d'entraîner notre RN, nous complétons ses caractéristiques en définissant notamment la fonction de *perte* (*loss* function, ici la categorical_crossentropy car c'est un pb de multiclassification) et la métrique utilisée pour mesurer sa performance, ici la précision (*accuracy*)."
   ]
  },
  {
   "cell_type": "code",
   "execution_count": 42,
   "id": "5494d35b",
   "metadata": {},
   "outputs": [],
   "source": [
    "nn.compile(loss='categorical_crossentropy', optimizer='adam', metrics=['accuracy'])"
   ]
  },
  {
   "cell_type": "markdown",
   "id": "4bddc5ce",
   "metadata": {},
   "source": [
    "## Entraînement du RN. En plus de l'ensemble d'apprentissage, on précise le nombre d'itérations (epochs) et le nombre d'exemples utilisés pour chaque étape de l'apprentissage."
   ]
  },
  {
   "cell_type": "code",
   "execution_count": 43,
   "id": "2b5ecf8d",
   "metadata": {},
   "outputs": [
    {
     "name": "stdout",
     "output_type": "stream",
     "text": [
      "Epoch 1/50\n",
      "9/9 [==============================] - 1s 1ms/step - loss: 1.4623 - accuracy: 0.3889\n",
      "Epoch 2/50\n",
      "9/9 [==============================] - 0s 2ms/step - loss: 1.4253 - accuracy: 0.3889\n",
      "Epoch 3/50\n",
      "9/9 [==============================] - 0s 4ms/step - loss: 1.3876 - accuracy: 0.3889\n",
      "Epoch 4/50\n",
      "9/9 [==============================] - 0s 1ms/step - loss: 1.3536 - accuracy: 0.3889\n",
      "Epoch 5/50\n",
      "9/9 [==============================] - 0s 2ms/step - loss: 1.3166 - accuracy: 0.3889\n",
      "Epoch 6/50\n",
      "9/9 [==============================] - 0s 858us/step - loss: 1.2877 - accuracy: 0.3889\n",
      "Epoch 7/50\n",
      "9/9 [==============================] - 0s 2ms/step - loss: 1.2591 - accuracy: 0.3889\n",
      "Epoch 8/50\n",
      "9/9 [==============================] - 0s 1ms/step - loss: 1.2305 - accuracy: 0.3889\n",
      "Epoch 9/50\n",
      "9/9 [==============================] - 0s 2ms/step - loss: 1.2088 - accuracy: 0.3889\n",
      "Epoch 10/50\n",
      "9/9 [==============================] - 0s 2ms/step - loss: 1.1893 - accuracy: 0.3889\n",
      "Epoch 11/50\n",
      "9/9 [==============================] - 0s 1ms/step - loss: 1.1682 - accuracy: 0.3889\n",
      "Epoch 12/50\n",
      "9/9 [==============================] - 0s 2ms/step - loss: 1.1515 - accuracy: 0.3889\n",
      "Epoch 13/50\n",
      "9/9 [==============================] - 0s 678us/step - loss: 1.1390 - accuracy: 0.3889\n",
      "Epoch 14/50\n",
      "9/9 [==============================] - 0s 2ms/step - loss: 1.1274 - accuracy: 0.3889\n",
      "Epoch 15/50\n",
      "9/9 [==============================] - 0s 2ms/step - loss: 1.1192 - accuracy: 0.3889\n",
      "Epoch 16/50\n",
      "9/9 [==============================] - 0s 2ms/step - loss: 1.1092 - accuracy: 0.3889\n",
      "Epoch 17/50\n",
      "9/9 [==============================] - 0s 2ms/step - loss: 1.1037 - accuracy: 0.3889\n",
      "Epoch 18/50\n",
      "9/9 [==============================] - 0s 2ms/step - loss: 1.0956 - accuracy: 0.3889\n",
      "Epoch 19/50\n",
      "9/9 [==============================] - 0s 2ms/step - loss: 1.0905 - accuracy: 0.3889\n",
      "Epoch 20/50\n",
      "9/9 [==============================] - 0s 2ms/step - loss: 1.0849 - accuracy: 0.3889\n",
      "Epoch 21/50\n",
      "9/9 [==============================] - 0s 2ms/step - loss: 1.0803 - accuracy: 0.3889\n",
      "Epoch 22/50\n",
      "9/9 [==============================] - 0s 2ms/step - loss: 1.0749 - accuracy: 0.4556\n",
      "Epoch 23/50\n",
      "9/9 [==============================] - 0s 2ms/step - loss: 1.0707 - accuracy: 0.4889\n",
      "Epoch 24/50\n",
      "9/9 [==============================] - 0s 2ms/step - loss: 1.0654 - accuracy: 0.5000\n",
      "Epoch 25/50\n",
      "9/9 [==============================] - 0s 2ms/step - loss: 1.0609 - accuracy: 0.5333\n",
      "Epoch 26/50\n",
      "9/9 [==============================] - 0s 2ms/step - loss: 1.0563 - accuracy: 0.5444\n",
      "Epoch 27/50\n",
      "9/9 [==============================] - 0s 3ms/step - loss: 1.0501 - accuracy: 0.5556\n",
      "Epoch 28/50\n",
      "9/9 [==============================] - 0s 2ms/step - loss: 1.0459 - accuracy: 0.5444\n",
      "Epoch 29/50\n",
      "9/9 [==============================] - 0s 2ms/step - loss: 1.0398 - accuracy: 0.5444\n",
      "Epoch 30/50\n",
      "9/9 [==============================] - 0s 2ms/step - loss: 1.0335 - accuracy: 0.5556\n",
      "Epoch 31/50\n",
      "9/9 [==============================] - 0s 2ms/step - loss: 1.0270 - accuracy: 0.5556\n",
      "Epoch 32/50\n",
      "9/9 [==============================] - 0s 2ms/step - loss: 1.0200 - accuracy: 0.5667\n",
      "Epoch 33/50\n",
      "9/9 [==============================] - 0s 890us/step - loss: 1.0132 - accuracy: 0.5889\n",
      "Epoch 34/50\n",
      "9/9 [==============================] - 0s 2ms/step - loss: 1.0044 - accuracy: 0.6000\n",
      "Epoch 35/50\n",
      "9/9 [==============================] - 0s 2ms/step - loss: 0.9951 - accuracy: 0.5889\n",
      "Epoch 36/50\n",
      "9/9 [==============================] - 0s 2ms/step - loss: 0.9858 - accuracy: 0.5889\n",
      "Epoch 37/50\n",
      "9/9 [==============================] - 0s 2ms/step - loss: 0.9754 - accuracy: 0.5556\n",
      "Epoch 38/50\n",
      "9/9 [==============================] - 0s 2ms/step - loss: 0.9657 - accuracy: 0.5778\n",
      "Epoch 39/50\n",
      "9/9 [==============================] - 0s 2ms/step - loss: 0.9535 - accuracy: 0.5778\n",
      "Epoch 40/50\n",
      "9/9 [==============================] - 0s 2ms/step - loss: 0.9419 - accuracy: 0.5556\n",
      "Epoch 41/50\n",
      "9/9 [==============================] - 0s 1ms/step - loss: 0.9297 - accuracy: 0.6556\n",
      "Epoch 42/50\n",
      "9/9 [==============================] - 0s 2ms/step - loss: 0.9180 - accuracy: 0.7556\n",
      "Epoch 43/50\n",
      "9/9 [==============================] - 0s 2ms/step - loss: 0.9056 - accuracy: 0.8778\n",
      "Epoch 44/50\n",
      "9/9 [==============================] - 0s 2ms/step - loss: 0.8937 - accuracy: 0.8778\n",
      "Epoch 45/50\n",
      "9/9 [==============================] - 0s 2ms/step - loss: 0.8839 - accuracy: 0.8889\n",
      "Epoch 46/50\n",
      "9/9 [==============================] - 0s 3ms/step - loss: 0.8716 - accuracy: 0.8889\n",
      "Epoch 47/50\n",
      "9/9 [==============================] - 0s 2ms/step - loss: 0.8610 - accuracy: 0.8667\n",
      "Epoch 48/50\n",
      "9/9 [==============================] - 0s 2ms/step - loss: 0.8517 - accuracy: 0.8778\n",
      "Epoch 49/50\n",
      "9/9 [==============================] - 0s 2ms/step - loss: 0.8414 - accuracy: 0.8778\n",
      "Epoch 50/50\n",
      "9/9 [==============================] - 0s 2ms/step - loss: 0.8309 - accuracy: 0.8778\n"
     ]
    },
    {
     "data": {
      "text/plain": [
       "<keras.src.callbacks.History at 0x2b6dddddad0>"
      ]
     },
     "execution_count": 43,
     "metadata": {},
     "output_type": "execute_result"
    }
   ],
   "source": [
    "nn.fit(X_train, Y_train, epochs=50, batch_size=10)"
   ]
  },
  {
   "cell_type": "markdown",
   "id": "be813b56",
   "metadata": {},
   "source": [
    "## Test du RN : Calcul et affichage de l'accuracy."
   ]
  },
  {
   "cell_type": "code",
   "execution_count": 44,
   "id": "1a37ff90",
   "metadata": {},
   "outputs": [
    {
     "name": "stdout",
     "output_type": "stream",
     "text": [
      "Test accuracy: 0.8666666746139526\n"
     ]
    }
   ],
   "source": [
    "score = nn.evaluate(X_test, Y_test, verbose=0)\n",
    "print('Test accuracy:', score[1])"
   ]
  },
  {
   "cell_type": "markdown",
   "id": "4546ee37",
   "metadata": {},
   "source": [
    "## Pour plus d'information, on construit la matrice de confusion."
   ]
  },
  {
   "cell_type": "code",
   "execution_count": 45,
   "id": "e3f5d055",
   "metadata": {},
   "outputs": [
    {
     "name": "stdout",
     "output_type": "stream",
     "text": [
      "2/2 [==============================] - 0s 8ms/step\n",
      "[[22  0  0]\n",
      " [ 0 15  8]\n",
      " [ 0  0 15]]\n"
     ]
    }
   ],
   "source": [
    "Y_pred = nn.predict(X_test)\n",
    "Y_pred_1 = Y_pred.argmax(axis=1)\n",
    "Y_test_1 = Y_test.argmax(axis=1)\n",
    "confusion = confusion_matrix(Y_pred_1, Y_test_1)\n",
    "print(confusion) "
   ]
  },
  {
   "cell_type": "code",
   "execution_count": null,
   "id": "a59149f7",
   "metadata": {},
   "outputs": [],
   "source": []
  }
 ],
 "metadata": {
  "kernelspec": {
   "display_name": "Python 3 (ipykernel)",
   "language": "python",
   "name": "python3"
  },
  "language_info": {
   "codemirror_mode": {
    "name": "ipython",
    "version": 3
   },
   "file_extension": ".py",
   "mimetype": "text/x-python",
   "name": "python",
   "nbconvert_exporter": "python",
   "pygments_lexer": "ipython3",
   "version": "3.11.3"
  }
 },
 "nbformat": 4,
 "nbformat_minor": 5
}
