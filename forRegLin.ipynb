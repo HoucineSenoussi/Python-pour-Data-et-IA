{
 "cells": [
  {
   "cell_type": "markdown",
   "id": "0e8d73e0",
   "metadata": {},
   "source": [
    "<table>\n",
    "  <tr>\n",
    "    <th style=\"background-color:#ffe694;\">\n",
    "     \n",
    "<font size=6> La régression linéaire en Python</font>\n",
    "      </th>\n",
    "  </tr>\n",
    "</table>"
   ]
  },
  {
   "cell_type": "markdown",
   "id": "17c04c5b",
   "metadata": {},
   "source": [
    "## La principale fonction permettant de faire des régressions linéaires se trouve dans le module <font color='blue'>scipy</font> et plus précisément dans l'objet <font color='blue'>stats</font>. Il s'agit de la fonction <font color='blue'>linregress</font>."
   ]
  },
  {
   "cell_type": "markdown",
   "id": "1f90f791",
   "metadata": {},
   "source": [
    "# <u> Calcul de la régression</u>"
   ]
  },
  {
   "cell_type": "code",
   "execution_count": 58,
   "id": "26f7f309",
   "metadata": {},
   "outputs": [],
   "source": [
    "import pandas as pn\n",
    "import numpy as np\n",
    "from scipy import stats\n",
    "import matplotlib.pyplot as plt"
   ]
  },
  {
   "cell_type": "code",
   "execution_count": 59,
   "id": "4ee1c9e8",
   "metadata": {},
   "outputs": [],
   "source": [
    "df = pn.read_csv('data\\\\forRegression.csv')\n",
    "X = df['X']\n",
    "Y = df['Y']"
   ]
  },
  {
   "cell_type": "code",
   "execution_count": 60,
   "id": "7c81cfbc",
   "metadata": {},
   "outputs": [],
   "source": [
    "#slope, intercept, r_value, p_value, std_err = stats.linregress(X, Y)\n",
    "reglin  = stats.linregress(X, Y)\n",
    "slope = reglin.slope\n",
    "intercept = reglin.intercept"
   ]
  },
  {
   "cell_type": "code",
   "execution_count": 61,
   "id": "a83761f5",
   "metadata": {},
   "outputs": [
    {
     "data": {
      "text/plain": [
       "[<matplotlib.lines.Line2D at 0x28540ea44f0>]"
      ]
     },
     "execution_count": 61,
     "metadata": {},
     "output_type": "execute_result"
    },
    {
     "data": {
      "image/png": "[encoded data removed]",
      "text/plain": [
       "<Figure size 640x480 with 1 Axes>"
      ]
     },
     "metadata": {},
     "output_type": "display_data"
    }
   ],
   "source": [
    "#Représentation graphique de la droite de régression et du nuage de points initial.\n",
    "axes = plt.axes()\n",
    "plt.scatter(X,Y) \n",
    "plt.plot(X, slope*X+intercept, c='r')\n"
   ]
  },
  {
   "cell_type": "markdown",
   "id": "4f4dbad1",
   "metadata": {},
   "source": [
    "## Vérifions que les valeurs retournées par la fonction sont celles prévues par la théorie."
   ]
  },
  {
   "cell_type": "code",
   "execution_count": 62,
   "id": "44176b49",
   "metadata": {},
   "outputs": [
    {
     "name": "stdout",
     "output_type": "stream",
     "text": [
      "Slope: -3.006835369400815 -3.1105193476560156\n",
      "Intercept: 576.6819371727748 581.9698200637902\n"
     ]
    }
   ],
   "source": [
    "#Calcul direct des coefficients de la régression prévus par la théorie\n",
    "Mx = np.mean(X)\n",
    "My = np.mean(Y)\n",
    "Vx = np.var(X)\n",
    "Cxy = np.cov(X, Y)[0][1]\n",
    "\n",
    "slope_th = Cxy/Vx\n",
    "intercept_th = My-a*Mx\n",
    "print('Slope:',slope, slope_th)\n",
    "print('Intercept:',intercept, intercept_th)\n"
   ]
  },
  {
   "cell_type": "markdown",
   "id": "f10dbb1d",
   "metadata": {},
   "source": [
    "# <u> Évaluation de la régression</u>"
   ]
  },
  {
   "cell_type": "markdown",
   "id": "0676f37e",
   "metadata": {},
   "source": [
    "## Pour évaluer notre régression, nous allons l'appliquer aux différentes valeurs de X, ce qui permet de prédire des valeurs Yp que nous allons comparer à celles de Y en utilisant le coefficient de détermination R_squared."
   ]
  },
  {
   "cell_type": "code",
   "execution_count": 63,
   "id": "8c140357",
   "metadata": {},
   "outputs": [],
   "source": [
    "#Calcul des valeurs prédites par la régression\n",
    "Yp = [slope*x+intercept for x in X]"
   ]
  },
  {
   "cell_type": "code",
   "execution_count": 64,
   "id": "c7e9ac1b",
   "metadata": {},
   "outputs": [
    {
     "name": "stdout",
     "output_type": "stream",
     "text": [
      "Valeur de R-squared =  0.6419929906612242\n"
     ]
    }
   ],
   "source": [
    "#Calcul de la valeur de R-squared (coefficient de détermination)\n",
    "R_squared = np.var(Yp)/np.var(Y)\n",
    "print('Valeur de R-squared = ',R_squared)"
   ]
  },
  {
   "cell_type": "code",
   "execution_count": 57,
   "id": "abc3be99",
   "metadata": {},
   "outputs": [
    {
     "name": "stdout",
     "output_type": "stream",
     "text": [
      "Valeur de R-squared =  0.6419929906612238\n"
     ]
    }
   ],
   "source": [
    "#En réalite R-squered, ou plutôt sa racine carrée, a déjà été calculé.\n",
    "R_squared = (reglin.rvalue)**2\n",
    "print('Valeur de R-squared = ',R_squared)"
   ]
  }
 ],
 "metadata": {
  "kernelspec": {
   "display_name": "Python 3 (ipykernel)",
   "language": "python",
   "name": "python3"
  },
  "language_info": {
   "codemirror_mode": {
    "name": "ipython",
    "version": 3
   },
   "file_extension": ".py",
   "mimetype": "text/x-python",
   "name": "python",
   "nbconvert_exporter": "python",
   "pygments_lexer": "ipython3",
   "version": "3.10.9"
  }
 },
 "nbformat": 4,
 "nbformat_minor": 5
}
