{
 "cells": [
  {
   "cell_type": "markdown",
   "id": "57ca2840",
   "metadata": {},
   "source": [
    "<table>\n",
    "  <tr>\n",
    "    <th style=\"background-color:#ffe694;\">\n",
    "     \n",
    "<font size=6> Trier des itérables</font>\n",
    "      </th>\n",
    "  </tr>\n",
    "</table>"
   ]
  },
  {
   "cell_type": "markdown",
   "id": "5a185e44",
   "metadata": {},
   "source": [
    "## L'utilisation la plus simple de la fonction <font color='blue'>sorted()</font> , appliquée à une liste et avec les valeurs par défaut des paramètres. "
   ]
  },
  {
   "cell_type": "code",
   "execution_count": 1,
   "id": "2e0c3c4f",
   "metadata": {},
   "outputs": [
    {
     "data": {
      "text/plain": [
       "[1, 2, 3, 4, 5]"
      ]
     },
     "execution_count": 1,
     "metadata": {},
     "output_type": "execute_result"
    }
   ],
   "source": [
    "l = [5,3,1,4,2]\n",
    "l1 = sorted(l)\n",
    "l1"
   ]
  },
  {
   "cell_type": "markdown",
   "id": "f12a316d",
   "metadata": {},
   "source": [
    "## Appliquée à un dictionaire, avec les paramètres par défaut, elle retourne la liste des clés triée."
   ]
  },
  {
   "cell_type": "code",
   "execution_count": 28,
   "id": "5a48b5e1",
   "metadata": {},
   "outputs": [
    {
     "data": {
      "text/plain": [
       "['CHF', 'EUR', 'GBP', 'USD']"
      ]
     },
     "execution_count": 28,
     "metadata": {},
     "output_type": "execute_result"
    }
   ],
   "source": [
    "dict_devises = {'USD':'Dollar', 'EUR':'Euro', 'GBP':'Livre sterling', 'CHF': 'Franc suisse'}\n",
    "l_devises_sorted = sorted(dict_devises)\n",
    "l_devises_sorted"
   ]
  },
  {
   "cell_type": "markdown",
   "id": "43ea34e1",
   "metadata": {},
   "source": [
    "# L'ajout du paramètre <font color='blue'>key</font> permet d'enrichir la fonction. Voici un exemple où on trie une liste de tuples en fonction de l'une des composantes."
   ]
  },
  {
   "cell_type": "code",
   "execution_count": 29,
   "id": "dfceb25e",
   "metadata": {},
   "outputs": [
    {
     "data": {
      "text/plain": [
       "[(1, 'A'), (2, 'B'), (3, 'C'), (4, 'D')]"
      ]
     },
     "execution_count": 29,
     "metadata": {},
     "output_type": "execute_result"
    }
   ],
   "source": [
    "lCouples = [(3,'C'), (2,'B'), (4,'D'), (1,'A')]\n",
    "lCouples_sorted = sorted(lCouples, key=lambda cpl: cpl[0])\n",
    "lCouples_sorted"
   ]
  },
  {
   "cell_type": "code",
   "execution_count": 30,
   "id": "be041feb",
   "metadata": {},
   "outputs": [
    {
     "data": {
      "text/plain": [
       "[(1, 41), (2, 17), (3, 25), (4, 19)]"
      ]
     },
     "execution_count": 30,
     "metadata": {},
     "output_type": "execute_result"
    }
   ],
   "source": [
    "dic = {3:25, 1:41, 2:17, 4:19}\n",
    "dic_items_sorted = sorted(dic.items(), key=lambda item: item[0])\n",
    "dic_items_sorted"
   ]
  },
  {
   "cell_type": "markdown",
   "id": "b4149c25",
   "metadata": {},
   "source": [
    "# Et voici un exemple où on combine ce qui précède pour trier un dictionnaire en fonction de la clé puis de la valeur."
   ]
  },
  {
   "cell_type": "code",
   "execution_count": 31,
   "id": "e7b864bc",
   "metadata": {},
   "outputs": [
    {
     "data": {
      "text/plain": [
       "{1: 41, 2: 17, 3: 25, 4: 19}"
      ]
     },
     "execution_count": 31,
     "metadata": {},
     "output_type": "execute_result"
    }
   ],
   "source": [
    "dic = {3:25, 1:41, 2:17, 4:19}\n",
    "dic_sorted1 = {k:v for k,v in sorted(dic.items() , key=lambda item: item[0])}\n",
    "dic_sorted1"
   ]
  },
  {
   "cell_type": "code",
   "execution_count": 32,
   "id": "037bcb7b",
   "metadata": {},
   "outputs": [
    {
     "data": {
      "text/plain": [
       "{2: 17, 4: 19, 3: 25, 1: 41}"
      ]
     },
     "execution_count": 32,
     "metadata": {},
     "output_type": "execute_result"
    }
   ],
   "source": [
    "dic_sorted2 = {k:v for k,v in sorted(dic.items() , key=lambda item: item[1])}\n",
    "dic_sorted2"
   ]
  },
  {
   "cell_type": "markdown",
   "id": "b4592f63",
   "metadata": {},
   "source": [
    " "
   ]
  },
  {
   "cell_type": "markdown",
   "id": "4db80460",
   "metadata": {},
   "source": [
    "# Et pour finir nous allons ajouter le paramètre  <font color='blue'>reverse</font> pour choisir le sens du tri.\n"
   ]
  },
  {
   "cell_type": "code",
   "execution_count": 24,
   "id": "922a0442",
   "metadata": {},
   "outputs": [
    {
     "data": {
      "text/plain": [
       "[5, 4, 3, 2, 1]"
      ]
     },
     "execution_count": 24,
     "metadata": {},
     "output_type": "execute_result"
    }
   ],
   "source": [
    "l = [5,3,1,4,2]\n",
    "l2 = sorted(l, reverse=True)\n",
    "l2"
   ]
  },
  {
   "cell_type": "code",
   "execution_count": 26,
   "id": "d916962a",
   "metadata": {},
   "outputs": [
    {
     "data": {
      "text/plain": [
       "{1: 41, 3: 25, 4: 19, 2: 17}"
      ]
     },
     "execution_count": 26,
     "metadata": {},
     "output_type": "execute_result"
    }
   ],
   "source": [
    "dic_sorted3 = {k:v for k,v in sorted(dic.items() , key=lambda item: item[1], reverse=True)}\n",
    "dic_sorted3"
   ]
  },
  {
   "cell_type": "code",
   "execution_count": null,
   "id": "da884bbd",
   "metadata": {},
   "outputs": [],
   "source": []
  }
 ],
 "metadata": {
  "kernelspec": {
   "display_name": "Python 3 (ipykernel)",
   "language": "python",
   "name": "python3"
  },
  "language_info": {
   "codemirror_mode": {
    "name": "ipython",
    "version": 3
   },
   "file_extension": ".py",
   "mimetype": "text/x-python",
   "name": "python",
   "nbconvert_exporter": "python",
   "pygments_lexer": "ipython3",
   "version": "3.11.3"
  }
 },
 "nbformat": 4,
 "nbformat_minor": 5
}
