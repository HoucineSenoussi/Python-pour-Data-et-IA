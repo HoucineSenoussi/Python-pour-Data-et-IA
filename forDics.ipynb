{
 "cells": [
  {
   "cell_type": "markdown",
   "id": "8c81c89a",
   "metadata": {},
   "source": [
    "<table>\n",
    "  <tr>\n",
    "    <th style=\"background-color:#ffe694;\">\n",
    "     \n",
    "<font size=6> Les dictionnaires</font>\n",
    "      </th>\n",
    "  </tr>\n",
    "</table>"
   ]
  },
  {
   "cell_type": "markdown",
   "id": "f5dae0c0",
   "metadata": {},
   "source": [
    "# <u> Créer un dictionnaire </u>"
   ]
  },
  {
   "cell_type": "code",
   "execution_count": 1,
   "id": "6f0171fd",
   "metadata": {},
   "outputs": [],
   "source": [
    "dict_devises = {'USD':'Dollar', 'EUR':'Euro', 'GBP':'Livre sterling', 'CHF': 'Franc suisse'}\n",
    "#On peut aussi procéder comme suit\n",
    "dict_devises = {}\n",
    "\n",
    "dict_devises['USD']= 'Dollar'\n",
    "dict_devises['EUR']= 'Euro'\n",
    "dict_devises['GBP']= 'Livre sterling'\n",
    "dict_devises['CHF']= 'Franc suisse'"
   ]
  },
  {
   "cell_type": "markdown",
   "id": "ddb82215",
   "metadata": {},
   "source": [
    "# <u> Accéder aux éléments d'un dictionnaire </u>"
   ]
  },
  {
   "cell_type": "code",
   "execution_count": 16,
   "id": "9698710d",
   "metadata": {},
   "outputs": [
    {
     "name": "stdout",
     "output_type": "stream",
     "text": [
      "Clé= USD  Valeur= Dollar\n",
      "Clé= EUR  Valeur= Euro\n",
      "Clé= GBP  Valeur= Livre sterling\n",
      "Clé= CHF  Valeur= Franc suisse\n",
      "Clé= USD  Valeur= Dollar\n",
      "Clé= EUR  Valeur= Euro\n",
      "Clé= GBP  Valeur= Livre sterling\n",
      "Clé= CHF  Valeur= Franc suisse\n"
     ]
    }
   ],
   "source": [
    "#Taille du dictionnaire\n",
    "taille = len(dict_devises)\n",
    "#La liste des couples (clé,valeur)\n",
    "items = dict_devises.items()\n",
    "#La liste des clés\n",
    "keys = dict_devises.keys()\n",
    "#Parcourir l'une ou l'autre de ces deux listes\n",
    "for it in items:\n",
    "  print('Clé=',it[0],' Valeur=',it[1])\n",
    "\n",
    "for k in keys:\n",
    "  print('Clé=',k,' Valeur=',dict_devises[k])"
   ]
  },
  {
   "cell_type": "markdown",
   "id": "549091c0",
   "metadata": {},
   "source": [
    "# <u> Trier un dictionaire </u>"
   ]
  },
  {
   "cell_type": "markdown",
   "id": "361c3216",
   "metadata": {},
   "source": [
    "## Voir la fiche [Trier des itérables](forSort.ipynb)"
   ]
  },
  {
   "cell_type": "markdown",
   "id": "6b5ec47b",
   "metadata": {},
   "source": [
    "# <u> Exercices </u>"
   ]
  },
  {
   "cell_type": "markdown",
   "id": "234646f3",
   "metadata": {},
   "source": [
    "1. Ecrire un script qui génère aléatoirement 50 entiers compris entre 1 et 5, crée un dictionnaire contenant le nombre d'occurrences de chaque entier, trie ce dictionnaire et affiche les entiers en fonction du nombre d'occurrences décroissant."
   ]
  },
  {
   "cell_type": "code",
   "execution_count": null,
   "id": "339c7932",
   "metadata": {},
   "outputs": [],
   "source": []
  }
 ],
 "metadata": {
  "kernelspec": {
   "display_name": "Python 3 (ipykernel)",
   "language": "python",
   "name": "python3"
  },
  "language_info": {
   "codemirror_mode": {
    "name": "ipython",
    "version": 3
   },
   "file_extension": ".py",
   "mimetype": "text/x-python",
   "name": "python",
   "nbconvert_exporter": "python",
   "pygments_lexer": "ipython3",
   "version": "3.11.3"
  }
 },
 "nbformat": 4,
 "nbformat_minor": 5
}
