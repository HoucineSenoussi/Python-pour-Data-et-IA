{
 "cells": [
  {
   "cell_type": "markdown",
   "id": "64c2ad72",
   "metadata": {},
   "source": [
    "<table>\n",
    "  <tr>\n",
    "    <th style=\"background-color:#ffe694;\">\n",
    "     \n",
    "<font size=6> Les fonctions <font color='blue'>map</font> et <font color='blue'>apply</font>\n",
    "      </th>\n",
    "  </tr>\n",
    "</table>"
   ]
  },
  {
   "cell_type": "markdown",
   "id": "aa56608f",
   "metadata": {},
   "source": [
    "## Les fonctions <font color='blue'>map</font> et <font color='blue'>apply</font> ont en commun de permettre l'application d'une fonction à un ensemble de valeurs."
   ]
  },
  {
   "cell_type": "markdown",
   "id": "083692fa",
   "metadata": {},
   "source": [
    "## La fonction <font color='blue'>map</font> sert à appliquer une fonction quelconque à tous les éléments d'un <i>itérable</i> et à récupérer le résultat dans une liste. Prenons un premier exemple:\n"
   ]
  },
  {
   "cell_type": "code",
   "execution_count": 59,
   "id": "31c65350",
   "metadata": {},
   "outputs": [
    {
     "data": {
      "text/plain": [
       "[1, 4, 9, 16]"
      ]
     },
     "execution_count": 59,
     "metadata": {},
     "output_type": "execute_result"
    }
   ],
   "source": [
    "def square(x):\n",
    "    return x**2\n",
    "\n",
    "res = map(square,[1,2,3,4])\n",
    "list(res)"
   ]
  },
  {
   "cell_type": "markdown",
   "id": "bfe045d6",
   "metadata": {},
   "source": [
    "## Dans cet exemple simple, on peut constater que la fonction <font color='blue'>map</font> n'apporte rien de plus par rapport à l'instruction suivante (voir aussi la fiche consacrée aux  [listes](forLists.ipynb)):"
   ]
  },
  {
   "cell_type": "code",
   "execution_count": 60,
   "id": "4e74843e",
   "metadata": {},
   "outputs": [
    {
     "data": {
      "text/plain": [
       "[1, 4, 9, 16]"
      ]
     },
     "execution_count": 60,
     "metadata": {},
     "output_type": "execute_result"
    }
   ],
   "source": [
    "res = [x**2 for x in [1,2,3,4]]\n",
    "res"
   ]
  },
  {
   "cell_type": "markdown",
   "id": "c83526ac",
   "metadata": {},
   "source": [
    "## Prenons un autre exemple:"
   ]
  },
  {
   "cell_type": "code",
   "execution_count": 61,
   "id": "00511672",
   "metadata": {},
   "outputs": [
    {
     "data": {
      "text/plain": [
       "[-2, 6, 4.5]"
      ]
     },
     "execution_count": 61,
     "metadata": {},
     "output_type": "execute_result"
    }
   ],
   "source": [
    "def prod(x,y):\n",
    "    return x*y\n",
    "\n",
    "res = map(prod, (1, 2, 3), (-2, 3, 1.5))\n",
    "list(res)"
   ]
  },
  {
   "cell_type": "markdown",
   "id": "722e893f",
   "metadata": {},
   "source": [
    "## Et encore un exemple:"
   ]
  },
  {
   "cell_type": "code",
   "execution_count": 62,
   "id": "fc403378",
   "metadata": {},
   "outputs": [
    {
     "data": {
      "text/plain": [
       "[-1, 0, 0, 1]"
      ]
     },
     "execution_count": 62,
     "metadata": {},
     "output_type": "execute_result"
    }
   ],
   "source": [
    "def droite(a, b, c, x, y):\n",
    "  val = a*x+b*y+c\n",
    "  if (val<0):\n",
    "    return -1\n",
    "  elif (val>0):\n",
    "    return 1\n",
    "  else:\n",
    "    return 0\n",
    "\n",
    "res = map(droite, [1]*4, [1]*4, [-1]*4, [0,0,1,1], [0,1,0,1])\n",
    "list(res)\n",
    "  "
   ]
  },
  {
   "cell_type": "markdown",
   "id": "94d4eb1d",
   "metadata": {},
   "source": [
    "## Les exemples précédents montrent que la fonction <font color='blue'>map</font> prend comme paramètres une fonction et plusieurs itérables dont un seul obligatoire. Plus précisément, elle prend comme paramètre une fonction et autant d'itérables que la fonction a de paramètres. Tous les itérables ont le même nombre d'élements: celui des valeurs auxquelles on veut appliquer la fonction. \n",
    "## En résume, lorsqu'on souhaite appliquer une fonction <i> fct </i>  ayant <i> n </i> paramètres, à <it>p </i> n-uplets de valeurs on écrit:\n",
    "\n",
    "## <i> <CENTER><font color='blue'>map</font>(fct, valeurs premier paramètre, ..., valeurs nième paramètre)</CENTER> </i>\n"
   ]
  },
  {
   "cell_type": "markdown",
   "id": "c604b8ae",
   "metadata": {},
   "source": [
    "## La fonction <font color='blue'>apply</font> sert à appliquer une fonction quelconque à chaque élément d'une dataframe, à toutes les lignes d'une dataframe,  à une colonne, à plusieurs colonnes, à toutes les colonnes d'une dataframe, ou à la totalité d'une dataframe. Prenons quelques exemples simples:"
   ]
  },
  {
   "cell_type": "code",
   "execution_count": 63,
   "id": "48114682",
   "metadata": {},
   "outputs": [],
   "source": [
    "#Définition des dataframes que nous allons utiliser par la suite\n",
    "\n",
    "import pandas as pn\n",
    "import numpy as np\n",
    "\n",
    "arr = np.array([[1,2], [3,4], [5,6], [7,8], [9,10]])\n",
    "df1  = pn.DataFrame(data=arr, columns=['Vi', 'Vp'])\n",
    "\n",
    "data = [[0.02, 0.28, 0.28], \n",
    "        [0.86, 0.62, 0.62],\n",
    "        [0.86, 0.8, 0.8],\n",
    "        [0.06, 0.42, 0.42],\n",
    "        [0.98, 0.96, 0.96],\n",
    "        [0.25, 0.02, 0.02],\n",
    "        [0.05, 0.03, 0.03],\n",
    "        [0.2, 0.35, 0.35],\n",
    "        [0.72, 0.29, 0.29]]\n",
    "df2 = pn.DataFrame(data=data, columns=['x1', 'x2', 'y'])"
   ]
  },
  {
   "cell_type": "code",
   "execution_count": 64,
   "id": "fceebaef",
   "metadata": {},
   "outputs": [
    {
     "data": {
      "text/html": [
       "<div>\n",
       "<style scoped>\n",
       "    .dataframe tbody tr th:only-of-type {\n",
       "        vertical-align: middle;\n",
       "    }\n",
       "\n",
       "    .dataframe tbody tr th {\n",
       "        vertical-align: top;\n",
       "    }\n",
       "\n",
       "    .dataframe thead th {\n",
       "        text-align: right;\n",
       "    }\n",
       "</style>\n",
       "<table border=\"1\" class=\"dataframe\">\n",
       "  <thead>\n",
       "    <tr style=\"text-align: right;\">\n",
       "      <th></th>\n",
       "      <th>Vi</th>\n",
       "      <th>Vp</th>\n",
       "    </tr>\n",
       "  </thead>\n",
       "  <tbody>\n",
       "    <tr>\n",
       "      <th>0</th>\n",
       "      <td>0.000000</td>\n",
       "      <td>1.000000</td>\n",
       "    </tr>\n",
       "    <tr>\n",
       "      <th>1</th>\n",
       "      <td>1.584963</td>\n",
       "      <td>2.000000</td>\n",
       "    </tr>\n",
       "    <tr>\n",
       "      <th>2</th>\n",
       "      <td>2.321928</td>\n",
       "      <td>2.584963</td>\n",
       "    </tr>\n",
       "    <tr>\n",
       "      <th>3</th>\n",
       "      <td>2.807355</td>\n",
       "      <td>3.000000</td>\n",
       "    </tr>\n",
       "    <tr>\n",
       "      <th>4</th>\n",
       "      <td>3.169925</td>\n",
       "      <td>3.321928</td>\n",
       "    </tr>\n",
       "  </tbody>\n",
       "</table>\n",
       "</div>"
      ],
      "text/plain": [
       "         Vi        Vp\n",
       "0  0.000000  1.000000\n",
       "1  1.584963  2.000000\n",
       "2  2.321928  2.584963\n",
       "3  2.807355  3.000000\n",
       "4  3.169925  3.321928"
      ]
     },
     "execution_count": 64,
     "metadata": {},
     "output_type": "execute_result"
    }
   ],
   "source": [
    "#Appliquer une fonction à tous les éléments d'une dataframe.\n",
    "log_df1 = df1.apply(np.log2)\n",
    "log_df1"
   ]
  },
  {
   "cell_type": "code",
   "execution_count": 65,
   "id": "ad29b293",
   "metadata": {},
   "outputs": [
    {
     "data": {
      "text/plain": [
       "Vi    25\n",
       "Vp    30\n",
       "dtype: int64"
      ]
     },
     "execution_count": 65,
     "metadata": {},
     "output_type": "execute_result"
    }
   ],
   "source": [
    "#Appliquer une fonction à toutes les colonnes d'une dataframe.\n",
    "sm = df1.apply(np.sum, axis=0)\n",
    "sm"
   ]
  },
  {
   "cell_type": "code",
   "execution_count": 66,
   "id": "26fedc00",
   "metadata": {},
   "outputs": [
    {
     "data": {
      "text/plain": [
       "0     3\n",
       "1     7\n",
       "2    11\n",
       "3    15\n",
       "4    19\n",
       "dtype: int64"
      ]
     },
     "execution_count": 66,
     "metadata": {},
     "output_type": "execute_result"
    }
   ],
   "source": [
    "#Appliquer une fonction à toutes les lignes d'une dataframe.\n",
    "sm = df1.apply(np.sum, axis=1)\n",
    "sm"
   ]
  },
  {
   "cell_type": "markdown",
   "id": "9d145b2e",
   "metadata": {},
   "source": [
    "### La valeur par défaut du paramètre <font color='blue'>axis</font> est 0."
   ]
  },
  {
   "cell_type": "code",
   "execution_count": 67,
   "id": "98941d7b",
   "metadata": {},
   "outputs": [
    {
     "data": {
      "text/plain": [
       "0    0.0784\n",
       "1    0.3844\n",
       "2    0.6400\n",
       "3    0.1764\n",
       "4    0.9216\n",
       "5    0.0004\n",
       "6    0.0009\n",
       "7    0.1225\n",
       "8    0.0841\n",
       "Name: y, dtype: float64"
      ]
     },
     "execution_count": 67,
     "metadata": {},
     "output_type": "execute_result"
    }
   ],
   "source": [
    "#Appliquer une fonction à une colonne.\n",
    "tab_y_sqr = df2['y'].apply(np.square)\n",
    "tab_y_sqr"
   ]
  },
  {
   "cell_type": "code",
   "execution_count": 68,
   "id": "cdb01d98",
   "metadata": {},
   "outputs": [
    {
     "data": {
      "text/plain": [
       "x1    4.00\n",
       "x2    3.77\n",
       "dtype: float64"
      ]
     },
     "execution_count": 68,
     "metadata": {},
     "output_type": "execute_result"
    }
   ],
   "source": [
    "#Appliquer une fonction à plusieurs colonnes (1).\n",
    "df2[['x1','x2']].apply(np.sum)"
   ]
  },
  {
   "cell_type": "code",
   "execution_count": 69,
   "id": "6accde69",
   "metadata": {},
   "outputs": [
    {
     "data": {
      "text/plain": [
       "0    0.30\n",
       "1    1.48\n",
       "2    1.66\n",
       "3    0.48\n",
       "4    1.94\n",
       "5    0.27\n",
       "6    0.08\n",
       "7    0.55\n",
       "8    1.01\n",
       "dtype: float64"
      ]
     },
     "execution_count": 69,
     "metadata": {},
     "output_type": "execute_result"
    }
   ],
   "source": [
    "#Appliquer une fonction à plusieurs colonnes (2).\n",
    "df2[['x1','x2']].apply(np.sum, axis=1)"
   ]
  },
  {
   "cell_type": "markdown",
   "id": "f4a5b723",
   "metadata": {},
   "source": [
    "### Dans les exemples donnés ci-dessus, les fonctions utilisées sont des fonctions pré-définies. On peut aussi utiliser des fonctions, éventuellement anonymes, écrites par le développeur. Voici quelques exemples:"
   ]
  },
  {
   "cell_type": "code",
   "execution_count": 70,
   "id": "9d2323d8",
   "metadata": {},
   "outputs": [
    {
     "data": {
      "text/html": [
       "<div>\n",
       "<style scoped>\n",
       "    .dataframe tbody tr th:only-of-type {\n",
       "        vertical-align: middle;\n",
       "    }\n",
       "\n",
       "    .dataframe tbody tr th {\n",
       "        vertical-align: top;\n",
       "    }\n",
       "\n",
       "    .dataframe thead th {\n",
       "        text-align: right;\n",
       "    }\n",
       "</style>\n",
       "<table border=\"1\" class=\"dataframe\">\n",
       "  <thead>\n",
       "    <tr style=\"text-align: right;\">\n",
       "      <th></th>\n",
       "      <th>Vi</th>\n",
       "      <th>Vp</th>\n",
       "      <th>new</th>\n",
       "    </tr>\n",
       "  </thead>\n",
       "  <tbody>\n",
       "    <tr>\n",
       "      <th>0</th>\n",
       "      <td>1</td>\n",
       "      <td>2</td>\n",
       "      <td>8</td>\n",
       "    </tr>\n",
       "    <tr>\n",
       "      <th>1</th>\n",
       "      <td>3</td>\n",
       "      <td>4</td>\n",
       "      <td>18</td>\n",
       "    </tr>\n",
       "    <tr>\n",
       "      <th>2</th>\n",
       "      <td>5</td>\n",
       "      <td>6</td>\n",
       "      <td>28</td>\n",
       "    </tr>\n",
       "    <tr>\n",
       "      <th>3</th>\n",
       "      <td>7</td>\n",
       "      <td>8</td>\n",
       "      <td>38</td>\n",
       "    </tr>\n",
       "    <tr>\n",
       "      <th>4</th>\n",
       "      <td>9</td>\n",
       "      <td>10</td>\n",
       "      <td>48</td>\n",
       "    </tr>\n",
       "  </tbody>\n",
       "</table>\n",
       "</div>"
      ],
      "text/plain": [
       "   Vi  Vp  new\n",
       "0   1   2    8\n",
       "1   3   4   18\n",
       "2   5   6   28\n",
       "3   7   8   38\n",
       "4   9  10   48"
      ]
     },
     "execution_count": 70,
     "metadata": {},
     "output_type": "execute_result"
    }
   ],
   "source": [
    "#Dans l'exemple suivant, nous considérons chaque ligne comme une variable, puis nous accédons à chaque colonne par \n",
    "#x['nomdelacolonne']. On notera que le résultat est utilisé pour ajouter une colonne.\n",
    "df1['new']=df1.apply(lambda x:2*x['Vi']+3*x['Vp'], axis=1)\n",
    "df1"
   ]
  },
  {
   "cell_type": "code",
   "execution_count": 71,
   "id": "5bd6174a",
   "metadata": {},
   "outputs": [
    {
     "data": {
      "text/html": [
       "<div>\n",
       "<style scoped>\n",
       "    .dataframe tbody tr th:only-of-type {\n",
       "        vertical-align: middle;\n",
       "    }\n",
       "\n",
       "    .dataframe tbody tr th {\n",
       "        vertical-align: top;\n",
       "    }\n",
       "\n",
       "    .dataframe thead th {\n",
       "        text-align: right;\n",
       "    }\n",
       "</style>\n",
       "<table border=\"1\" class=\"dataframe\">\n",
       "  <thead>\n",
       "    <tr style=\"text-align: right;\">\n",
       "      <th></th>\n",
       "      <th>x1</th>\n",
       "      <th>x2</th>\n",
       "      <th>y</th>\n",
       "      <th>err</th>\n",
       "    </tr>\n",
       "  </thead>\n",
       "  <tbody>\n",
       "    <tr>\n",
       "      <th>0</th>\n",
       "      <td>0.02</td>\n",
       "      <td>0.28</td>\n",
       "      <td>0.28</td>\n",
       "      <td>0.2304</td>\n",
       "    </tr>\n",
       "    <tr>\n",
       "      <th>1</th>\n",
       "      <td>0.86</td>\n",
       "      <td>0.62</td>\n",
       "      <td>0.62</td>\n",
       "      <td>0.1296</td>\n",
       "    </tr>\n",
       "    <tr>\n",
       "      <th>2</th>\n",
       "      <td>0.86</td>\n",
       "      <td>0.80</td>\n",
       "      <td>0.80</td>\n",
       "      <td>0.1296</td>\n",
       "    </tr>\n",
       "    <tr>\n",
       "      <th>3</th>\n",
       "      <td>0.06</td>\n",
       "      <td>0.42</td>\n",
       "      <td>0.42</td>\n",
       "      <td>0.1936</td>\n",
       "    </tr>\n",
       "    <tr>\n",
       "      <th>4</th>\n",
       "      <td>0.98</td>\n",
       "      <td>0.96</td>\n",
       "      <td>0.96</td>\n",
       "      <td>0.2304</td>\n",
       "    </tr>\n",
       "    <tr>\n",
       "      <th>5</th>\n",
       "      <td>0.25</td>\n",
       "      <td>0.02</td>\n",
       "      <td>0.02</td>\n",
       "      <td>0.0625</td>\n",
       "    </tr>\n",
       "    <tr>\n",
       "      <th>6</th>\n",
       "      <td>0.05</td>\n",
       "      <td>0.03</td>\n",
       "      <td>0.03</td>\n",
       "      <td>0.2025</td>\n",
       "    </tr>\n",
       "    <tr>\n",
       "      <th>7</th>\n",
       "      <td>0.20</td>\n",
       "      <td>0.35</td>\n",
       "      <td>0.35</td>\n",
       "      <td>0.0900</td>\n",
       "    </tr>\n",
       "    <tr>\n",
       "      <th>8</th>\n",
       "      <td>0.72</td>\n",
       "      <td>0.29</td>\n",
       "      <td>0.29</td>\n",
       "      <td>0.0484</td>\n",
       "    </tr>\n",
       "  </tbody>\n",
       "</table>\n",
       "</div>"
      ],
      "text/plain": [
       "     x1    x2     y     err\n",
       "0  0.02  0.28  0.28  0.2304\n",
       "1  0.86  0.62  0.62  0.1296\n",
       "2  0.86  0.80  0.80  0.1296\n",
       "3  0.06  0.42  0.42  0.1936\n",
       "4  0.98  0.96  0.96  0.2304\n",
       "5  0.25  0.02  0.02  0.0625\n",
       "6  0.05  0.03  0.03  0.2025\n",
       "7  0.20  0.35  0.35  0.0900\n",
       "8  0.72  0.29  0.29  0.0484"
      ]
     },
     "execution_count": 71,
     "metadata": {},
     "output_type": "execute_result"
    }
   ],
   "source": [
    "#Dans l'exemple suivant, nous appliquons une fonction dépendant de paramètres, en l'occurence w1, w2, et b, à chaque ligne d'une dataframe.\n",
    "def erreurQuadratique(x1, x2, y, w1, w2, b):\n",
    "    return (w1*x1+w2*x2+b-y)**2\n",
    "\n",
    "df2['err']=df2.apply(lambda x: erreurQuadratique(x['x1'], x['x2'], x['y'], 1.0, 1.0, -0.5), axis=1)\n",
    "df2"
   ]
  },
  {
   "cell_type": "code",
   "execution_count": 72,
   "id": "47a4a6ad",
   "metadata": {},
   "outputs": [
    {
     "data": {
      "text/html": [
       "<div>\n",
       "<style scoped>\n",
       "    .dataframe tbody tr th:only-of-type {\n",
       "        vertical-align: middle;\n",
       "    }\n",
       "\n",
       "    .dataframe tbody tr th {\n",
       "        vertical-align: top;\n",
       "    }\n",
       "\n",
       "    .dataframe thead th {\n",
       "        text-align: right;\n",
       "    }\n",
       "</style>\n",
       "<table border=\"1\" class=\"dataframe\">\n",
       "  <thead>\n",
       "    <tr style=\"text-align: right;\">\n",
       "      <th></th>\n",
       "      <th>x1</th>\n",
       "      <th>x2</th>\n",
       "      <th>y</th>\n",
       "      <th>err</th>\n",
       "      <th>aff1</th>\n",
       "    </tr>\n",
       "  </thead>\n",
       "  <tbody>\n",
       "    <tr>\n",
       "      <th>0</th>\n",
       "      <td>0.02</td>\n",
       "      <td>0.28</td>\n",
       "      <td>0.28</td>\n",
       "      <td>0.2304</td>\n",
       "      <td>1.04</td>\n",
       "    </tr>\n",
       "    <tr>\n",
       "      <th>1</th>\n",
       "      <td>0.86</td>\n",
       "      <td>0.62</td>\n",
       "      <td>0.62</td>\n",
       "      <td>0.1296</td>\n",
       "      <td>2.72</td>\n",
       "    </tr>\n",
       "    <tr>\n",
       "      <th>2</th>\n",
       "      <td>0.86</td>\n",
       "      <td>0.80</td>\n",
       "      <td>0.80</td>\n",
       "      <td>0.1296</td>\n",
       "      <td>2.72</td>\n",
       "    </tr>\n",
       "    <tr>\n",
       "      <th>3</th>\n",
       "      <td>0.06</td>\n",
       "      <td>0.42</td>\n",
       "      <td>0.42</td>\n",
       "      <td>0.1936</td>\n",
       "      <td>1.12</td>\n",
       "    </tr>\n",
       "    <tr>\n",
       "      <th>4</th>\n",
       "      <td>0.98</td>\n",
       "      <td>0.96</td>\n",
       "      <td>0.96</td>\n",
       "      <td>0.2304</td>\n",
       "      <td>2.96</td>\n",
       "    </tr>\n",
       "    <tr>\n",
       "      <th>5</th>\n",
       "      <td>0.25</td>\n",
       "      <td>0.02</td>\n",
       "      <td>0.02</td>\n",
       "      <td>0.0625</td>\n",
       "      <td>1.50</td>\n",
       "    </tr>\n",
       "    <tr>\n",
       "      <th>6</th>\n",
       "      <td>0.05</td>\n",
       "      <td>0.03</td>\n",
       "      <td>0.03</td>\n",
       "      <td>0.2025</td>\n",
       "      <td>1.10</td>\n",
       "    </tr>\n",
       "    <tr>\n",
       "      <th>7</th>\n",
       "      <td>0.20</td>\n",
       "      <td>0.35</td>\n",
       "      <td>0.35</td>\n",
       "      <td>0.0900</td>\n",
       "      <td>1.40</td>\n",
       "    </tr>\n",
       "    <tr>\n",
       "      <th>8</th>\n",
       "      <td>0.72</td>\n",
       "      <td>0.29</td>\n",
       "      <td>0.29</td>\n",
       "      <td>0.0484</td>\n",
       "      <td>2.44</td>\n",
       "    </tr>\n",
       "  </tbody>\n",
       "</table>\n",
       "</div>"
      ],
      "text/plain": [
       "     x1    x2     y     err  aff1\n",
       "0  0.02  0.28  0.28  0.2304  1.04\n",
       "1  0.86  0.62  0.62  0.1296  2.72\n",
       "2  0.86  0.80  0.80  0.1296  2.72\n",
       "3  0.06  0.42  0.42  0.1936  1.12\n",
       "4  0.98  0.96  0.96  0.2304  2.96\n",
       "5  0.25  0.02  0.02  0.0625  1.50\n",
       "6  0.05  0.03  0.03  0.2025  1.10\n",
       "7  0.20  0.35  0.35  0.0900  1.40\n",
       "8  0.72  0.29  0.29  0.0484  2.44"
      ]
     },
     "execution_count": 72,
     "metadata": {},
     "output_type": "execute_result"
    }
   ],
   "source": [
    "#Dans l'exemple suivant, nous présentons deux versions de l'application d'une fonction dépendant de paramètres à une colonne.\n",
    "def affine(x, a, b):\n",
    "    return a*x+b\n",
    "#Version 1\n",
    "df2['aff1'] = df2['x1'].apply(affine, args=(2.0, 1.0))\n",
    "df2"
   ]
  },
  {
   "cell_type": "code",
   "execution_count": 73,
   "id": "6d6cf3df",
   "metadata": {},
   "outputs": [
    {
     "data": {
      "text/html": [
       "<div>\n",
       "<style scoped>\n",
       "    .dataframe tbody tr th:only-of-type {\n",
       "        vertical-align: middle;\n",
       "    }\n",
       "\n",
       "    .dataframe tbody tr th {\n",
       "        vertical-align: top;\n",
       "    }\n",
       "\n",
       "    .dataframe thead th {\n",
       "        text-align: right;\n",
       "    }\n",
       "</style>\n",
       "<table border=\"1\" class=\"dataframe\">\n",
       "  <thead>\n",
       "    <tr style=\"text-align: right;\">\n",
       "      <th></th>\n",
       "      <th>x1</th>\n",
       "      <th>x2</th>\n",
       "      <th>y</th>\n",
       "      <th>err</th>\n",
       "      <th>aff1</th>\n",
       "      <th>aff2</th>\n",
       "    </tr>\n",
       "  </thead>\n",
       "  <tbody>\n",
       "    <tr>\n",
       "      <th>0</th>\n",
       "      <td>0.02</td>\n",
       "      <td>0.28</td>\n",
       "      <td>0.28</td>\n",
       "      <td>0.2304</td>\n",
       "      <td>1.04</td>\n",
       "      <td>1.04</td>\n",
       "    </tr>\n",
       "    <tr>\n",
       "      <th>1</th>\n",
       "      <td>0.86</td>\n",
       "      <td>0.62</td>\n",
       "      <td>0.62</td>\n",
       "      <td>0.1296</td>\n",
       "      <td>2.72</td>\n",
       "      <td>2.72</td>\n",
       "    </tr>\n",
       "    <tr>\n",
       "      <th>2</th>\n",
       "      <td>0.86</td>\n",
       "      <td>0.80</td>\n",
       "      <td>0.80</td>\n",
       "      <td>0.1296</td>\n",
       "      <td>2.72</td>\n",
       "      <td>2.72</td>\n",
       "    </tr>\n",
       "    <tr>\n",
       "      <th>3</th>\n",
       "      <td>0.06</td>\n",
       "      <td>0.42</td>\n",
       "      <td>0.42</td>\n",
       "      <td>0.1936</td>\n",
       "      <td>1.12</td>\n",
       "      <td>1.12</td>\n",
       "    </tr>\n",
       "    <tr>\n",
       "      <th>4</th>\n",
       "      <td>0.98</td>\n",
       "      <td>0.96</td>\n",
       "      <td>0.96</td>\n",
       "      <td>0.2304</td>\n",
       "      <td>2.96</td>\n",
       "      <td>2.96</td>\n",
       "    </tr>\n",
       "    <tr>\n",
       "      <th>5</th>\n",
       "      <td>0.25</td>\n",
       "      <td>0.02</td>\n",
       "      <td>0.02</td>\n",
       "      <td>0.0625</td>\n",
       "      <td>1.50</td>\n",
       "      <td>1.50</td>\n",
       "    </tr>\n",
       "    <tr>\n",
       "      <th>6</th>\n",
       "      <td>0.05</td>\n",
       "      <td>0.03</td>\n",
       "      <td>0.03</td>\n",
       "      <td>0.2025</td>\n",
       "      <td>1.10</td>\n",
       "      <td>1.10</td>\n",
       "    </tr>\n",
       "    <tr>\n",
       "      <th>7</th>\n",
       "      <td>0.20</td>\n",
       "      <td>0.35</td>\n",
       "      <td>0.35</td>\n",
       "      <td>0.0900</td>\n",
       "      <td>1.40</td>\n",
       "      <td>1.40</td>\n",
       "    </tr>\n",
       "    <tr>\n",
       "      <th>8</th>\n",
       "      <td>0.72</td>\n",
       "      <td>0.29</td>\n",
       "      <td>0.29</td>\n",
       "      <td>0.0484</td>\n",
       "      <td>2.44</td>\n",
       "      <td>2.44</td>\n",
       "    </tr>\n",
       "  </tbody>\n",
       "</table>\n",
       "</div>"
      ],
      "text/plain": [
       "     x1    x2     y     err  aff1  aff2\n",
       "0  0.02  0.28  0.28  0.2304  1.04  1.04\n",
       "1  0.86  0.62  0.62  0.1296  2.72  2.72\n",
       "2  0.86  0.80  0.80  0.1296  2.72  2.72\n",
       "3  0.06  0.42  0.42  0.1936  1.12  1.12\n",
       "4  0.98  0.96  0.96  0.2304  2.96  2.96\n",
       "5  0.25  0.02  0.02  0.0625  1.50  1.50\n",
       "6  0.05  0.03  0.03  0.2025  1.10  1.10\n",
       "7  0.20  0.35  0.35  0.0900  1.40  1.40\n",
       "8  0.72  0.29  0.29  0.0484  2.44  2.44"
      ]
     },
     "execution_count": 73,
     "metadata": {},
     "output_type": "execute_result"
    }
   ],
   "source": [
    "#Version 2\n",
    "df2['aff2'] = df2['x1'].apply(affine, a=2.0, b=1.0)\n",
    "df2"
   ]
  },
  {
   "cell_type": "code",
   "execution_count": null,
   "id": "02a075bb",
   "metadata": {},
   "outputs": [],
   "source": []
  },
  {
   "cell_type": "code",
   "execution_count": null,
   "id": "5d17a32d",
   "metadata": {},
   "outputs": [],
   "source": []
  }
 ],
 "metadata": {
  "kernelspec": {
   "display_name": "Python 3 (ipykernel)",
   "language": "python",
   "name": "python3"
  },
  "language_info": {
   "codemirror_mode": {
    "name": "ipython",
    "version": 3
   },
   "file_extension": ".py",
   "mimetype": "text/x-python",
   "name": "python",
   "nbconvert_exporter": "python",
   "pygments_lexer": "ipython3",
   "version": "3.11.3"
  }
 },
 "nbformat": 4,
 "nbformat_minor": 5
}
