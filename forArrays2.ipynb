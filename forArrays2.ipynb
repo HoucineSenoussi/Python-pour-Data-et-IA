{
 "cells": [
  {
   "cell_type": "markdown",
   "id": "64c2ad72",
   "metadata": {},
   "source": [
    "<table>\n",
    "  <tr>\n",
    "    <th style=\"background-color:#ffe694;\">\n",
    "     \n",
    "<font size=6> Les tableaux uni et multi-dimentionnels (2)</font>\n",
    "      </th>\n",
    "  </tr>\n",
    "</table>"
   ]
  },
  {
   "cell_type": "markdown",
   "id": "f74ab1b4",
   "metadata": {},
   "source": [
    "## La première partie de ce chapitre est [ici](forArrays.ipynb)\n"
   ]
  },
  {
   "cell_type": "code",
   "execution_count": 22,
   "id": "31c65350",
   "metadata": {},
   "outputs": [],
   "source": [
    "import numpy as np\n",
    "\n",
    "mat1 = np.array([[2,0,3], [4,-7,1], [-5,1,-8], [0,2,0]])\n",
    "mat2 = np.array([[0,-1,1], [1,-3,0], [2,-1,-1], [2,0,1]])"
   ]
  },
  {
   "cell_type": "markdown",
   "id": "bfe045d6",
   "metadata": {},
   "source": [
    "## Opérations sur les tableaux. Pour commencer, lorsque deux tableaux ont la même dimension on peut leur appliquer les opérations  <font color='green'>élement par élément</font>.\n"
   ]
  },
  {
   "cell_type": "code",
   "execution_count": 23,
   "id": "4e74843e",
   "metadata": {},
   "outputs": [
    {
     "data": {
      "text/plain": [
       "array([[  0,   0,   3],\n",
       "       [  4,  21,   0],\n",
       "       [-10,  -1,   8],\n",
       "       [  0,   0,   0]])"
      ]
     },
     "execution_count": 23,
     "metadata": {},
     "output_type": "execute_result"
    }
   ],
   "source": [
    "s_mat = mat1+mat2\n",
    "p_mat = mat1*mat2\n",
    "\n",
    "p_mat"
   ]
  },
  {
   "cell_type": "markdown",
   "id": "2b76df82",
   "metadata": {},
   "source": [
    "## Il y a ensuite <font color='green'>les opérations algébriques</font>."
   ]
  },
  {
   "cell_type": "code",
   "execution_count": 24,
   "id": "17893a11",
   "metadata": {},
   "outputs": [
    {
     "data": {
      "text/plain": [
       "array([[ 2,  4, -5,  0],\n",
       "       [ 0, -7,  1,  2],\n",
       "       [ 3,  1, -8,  0]])"
      ]
     },
     "execution_count": 24,
     "metadata": {},
     "output_type": "execute_result"
    }
   ],
   "source": [
    "#Transposition d'une matrice\n",
    "t_mat1 = mat1.transpose()\n",
    "t_mat1"
   ]
  },
  {
   "cell_type": "code",
   "execution_count": 25,
   "id": "1aa591ba",
   "metadata": {},
   "outputs": [],
   "source": [
    "#Produit matrice-vecteur\n",
    "vect = np.array([1,1,1])\n",
    "pmv = np.dot(mat1, vect)"
   ]
  },
  {
   "cell_type": "code",
   "execution_count": 26,
   "id": "8a52be6d",
   "metadata": {},
   "outputs": [
    {
     "data": {
      "text/plain": [
       "3"
      ]
     },
     "execution_count": 26,
     "metadata": {},
     "output_type": "execute_result"
    }
   ],
   "source": [
    "#Produit scalaire de deux vecteurs\n",
    "vect1 = np.array([1,1,1])\n",
    "vect2 = np.array([2,-1,2])\n",
    "\n",
    "ps = np.dot(vect1, vect2)\n",
    "ps"
   ]
  },
  {
   "cell_type": "code",
   "execution_count": 27,
   "id": "2940a775",
   "metadata": {},
   "outputs": [
    {
     "data": {
      "text/plain": [
       "array([[0.42951458, 0.31047993, 0.39272704, 0.53222392, 0.5145083 ],\n",
       "       [0.36248656, 0.45977779, 0.58254984, 0.51892454, 0.60414784],\n",
       "       [0.12238305, 0.23318771, 0.30683945, 0.1651603 , 0.28836673],\n",
       "       [0.68837577, 0.75177496, 0.99339774, 0.8040603 , 1.10726125]])"
      ]
     },
     "execution_count": 27,
     "metadata": {},
     "output_type": "execute_result"
    }
   ],
   "source": [
    "#Produit matriciel\n",
    "mat3 = np.random.rand(4,3)\n",
    "mat4 = np.random.rand(3,5)\n",
    "\n",
    "pm = np.dot(mat3, mat4)\n",
    "pm"
   ]
  },
  {
   "cell_type": "code",
   "execution_count": 28,
   "id": "ced6e1f6",
   "metadata": {},
   "outputs": [
    {
     "data": {
      "text/plain": [
       "(4, 5)"
      ]
     },
     "execution_count": 28,
     "metadata": {},
     "output_type": "execute_result"
    }
   ],
   "source": [
    "pm.shape"
   ]
  },
  {
   "cell_type": "code",
   "execution_count": null,
   "id": "5bcc4cdb",
   "metadata": {},
   "outputs": [],
   "source": []
  },
  {
   "cell_type": "code",
   "execution_count": null,
   "id": "9a62fa04",
   "metadata": {},
   "outputs": [],
   "source": []
  }
 ],
 "metadata": {
  "kernelspec": {
   "display_name": "Python 3 (ipykernel)",
   "language": "python",
   "name": "python3"
  },
  "language_info": {
   "codemirror_mode": {
    "name": "ipython",
    "version": 3
   },
   "file_extension": ".py",
   "mimetype": "text/x-python",
   "name": "python",
   "nbconvert_exporter": "python",
   "pygments_lexer": "ipython3",
   "version": "3.11.3"
  }
 },
 "nbformat": 4,
 "nbformat_minor": 5
}
