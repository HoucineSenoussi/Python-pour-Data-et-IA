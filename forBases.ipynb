{
 "cells": [
  {
   "cell_type": "markdown",
   "id": "64c2ad72",
   "metadata": {},
   "source": [
    "<table>\n",
    "  <tr>\n",
    "    <th style=\"background-color:#ffe694;\">\n",
    "     \n",
    "<font size=6> Pour démarrer en Python\n",
    "      </th>\n",
    "  </tr>\n",
    "</table>"
   ]
  },
  {
   "cell_type": "markdown",
   "id": "aacdd9a6",
   "metadata": {},
   "source": [
    "### Ce chapitre introductif tente de résumer les éléments de base du langage  Python. Ces éléments sont les (seuls) pré-requis pour les chapitres suivants."
   ]
  },
  {
   "cell_type": "markdown",
   "id": "ba7868c3",
   "metadata": {},
   "source": [
    "### 1. Python manipule des variables <font color='red'>typées</font>. Les variables sont utilisées sans être déclarées. Un type est associé à chaque variable à sa première utilisation. Le type d'une variable peut changer en cours d'utilisation (suite à une nouvelle affectation, par exemple). Comme dans les autres langages, on peut considérer <font color='blue'>bool</font> (booléen), <font color='blue'>int</font> (entier), <font color='blue'>float</font>(réel) et <font color='blue'>str</font> (chaîne de caractères) comme les types de base.\n"
   ]
  },
  {
   "cell_type": "markdown",
   "id": "159fe99e",
   "metadata": {},
   "source": [
    "### 2. Python met à notre disposition tous les opérateurs nécessaires pour manipuler ces types, c'est-à-dire les opérateurs arithmétiques, logiques et de manipulation des chaînes de caractères."
   ]
  },
  {
   "cell_type": "markdown",
   "id": "93786f96",
   "metadata": {},
   "source": [
    "### 3. Les entrées sorties conversationnelles sont assurées par les fonctions <font color='blue'>input</font> et <font color='blue'>print</font>.\n"
   ]
  },
  {
   "cell_type": "markdown",
   "id": "003bc689",
   "metadata": {},
   "source": [
    "### 4. On trouve en Python les mêmes structures de contrôles que dans les autres langages: la structure de contrôle <font color='red'>conditionnelles</font> <font color='blue'>if</font>/<font color='blue'>elif</font>/<font color='blue'>else</font> qui permet de faire un choix multiple, et les structures de contrôle  <font color='red'>itératives</font>  <font color='blue'>for</font> et <font color='blue'>while</font>. =0Les conditions utilisées par ces structures de contrôle peuvent être simples (e.g. x>=0) ou composées à l'aide des opérateurs logiques (e.g. (x>=0) <font color='blue'>and</font> (x<=1)).\n"
   ]
  },
  {
   "cell_type": "markdown",
   "id": "5e721c81",
   "metadata": {},
   "source": [
    "### 5. En plus de son  <font color='red'>noyau</font>, Python permet d'utiliser d'autres éléments pré-définis dans des <font color='red'>modules</font>. Un module est en général <font color='red'>spécialisé</font> : il contient les éléments spécifiques à un domaine d'application. Pour utiliser les éléments d'un module, il faut utiliser l'instruction <font color='blue'>import</font>. Plus bas, nous illustrons notre propos par le module <font color='blue'>math</font>."
   ]
  },
  {
   "cell_type": "markdown",
   "id": "188f1a77",
   "metadata": {},
   "source": [
    "### 6. Une <font color='red'>fonction</font> Python est définie par son nom, une liste éventuellement vide de paramètres d'entrée et une liste éventuelle vide de résultats retournés."
   ]
  },
  {
   "cell_type": "markdown",
   "id": "c239ee88",
   "metadata": {},
   "source": [
    "### 7. En plus des fonctions qu'il écrit lui-même, le développeur dispose des fonctions prédéfinies. Parmi ces dernières, certaines sont natives (incluses dans le noyau), d'autres sont définies dans les différents modules."
   ]
  },
  {
   "cell_type": "markdown",
   "id": "083692fa",
   "metadata": {},
   "source": [
    "### 8. En Python, on peut aussi définir des fonctions <font color='red'>anonymes</font>. Il s'agit de fonctions courtes et utilisées une seule fois, dans un contexte précis. Cela se fait à l'aide de l'instruction <font color='blue'>lambda</font>.\n"
   ]
  },
  {
   "cell_type": "markdown",
   "id": "ec0dd759",
   "metadata": {},
   "source": [
    "## <u> Exemple 1 </u>:"
   ]
  },
  {
   "cell_type": "markdown",
   "id": "330c9d72",
   "metadata": {},
   "source": [
    "### Dans cet exemple, nous allons commencer par écrire trois fonctions que nous rencontrerons dans les réseaux de neurones en tant que fonctions d'activation. Il s'agit de la fonction de <font color='red'>Heaviside</font>, et des fonctions <font color='red'>sigmoïde</font> et <font color='red'>softmax</font>. "
   ]
  },
  {
   "cell_type": "code",
   "execution_count": 9,
   "id": "7df3453d",
   "metadata": {},
   "outputs": [],
   "source": [
    "#Nous n'avons pas besoin d'importer la totalité du module math qui, comme son nom l'indique, contient les fonctions \n",
    "#mathématiques.\n",
    "#Nous importons uniquement la fonction dont nous avons besoin: la fonction exponentielle.\n",
    "from math import exp\n",
    "\n",
    "def heaviside(x):\n",
    "    if x>0:\n",
    "        return 1\n",
    "    else:\n",
    "        return 0\n",
    "    \n",
    "def sigmoide(x):\n",
    "    return 1/(1+exp(-x))\n",
    "\n",
    "def softmax(z1, z2, z3):\n",
    "    y1 = exp(z1)/(exp(z1)+exp(z2)+exp(z3))\n",
    "    y2 = exp(z2)/(exp(z1)+exp(z2)+exp(z3))\n",
    "    y3 = exp(z3)/(exp(z1)+exp(z2)+exp(z3))\n",
    "    \n",
    "    return y1, y2, y3\n",
    "    "
   ]
  },
  {
   "cell_type": "markdown",
   "id": "04207fe1",
   "metadata": {},
   "source": [
    "### Appliquons la fonction de Heaviside à une combinaison de 2 valeurs binaires (x1,x2). On pourra remarquer que les valeurs obtenues sont celles de la  <font color='red'>fonction logique Ou</font>."
   ]
  },
  {
   "cell_type": "code",
   "execution_count": 10,
   "id": "3e8908b5",
   "metadata": {},
   "outputs": [
    {
     "name": "stdout",
     "output_type": "stream",
     "text": [
      "x1= 0 x2= 0 y= 0\n",
      "x1= 0 x2= 1 y= 1\n",
      "x1= 1 x2= 0 y= 1\n",
      "x1= 1 x2= 1 y= 1\n"
     ]
    }
   ],
   "source": [
    "#Application de la fonction de Heaviside.\n",
    "w1 = 2\n",
    "w2 = 2\n",
    "b = -1\n",
    "\n",
    "for x1 in range(2):\n",
    "    for x2 in range(2):\n",
    "        z = w1*x1+w2*x2+b\n",
    "        y = heaviside(z)\n",
    "        print('x1=',x1,'x2=',x2,'y=',y)"
   ]
  },
  {
   "cell_type": "markdown",
   "id": "a066c085",
   "metadata": {},
   "source": [
    "### Nous allons ensuite refaire la même chose avec la fonction sigmoïde."
   ]
  },
  {
   "cell_type": "code",
   "execution_count": 11,
   "id": "46160882",
   "metadata": {},
   "outputs": [
    {
     "name": "stdout",
     "output_type": "stream",
     "text": [
      "x1= 0 x2= 0 y= 0.2689414213699951\n",
      "x1= 0 x2= 1 y= 0.7310585786300049\n",
      "x1= 1 x2= 0 y= 0.7310585786300049\n",
      "x1= 1 x2= 1 y= 0.9525741268224334\n"
     ]
    }
   ],
   "source": [
    "w1 = 2\n",
    "w2 = 2\n",
    "b = -1\n",
    "\n",
    "for x1 in range(2):\n",
    "    for x2 in range(2):\n",
    "        z = w1*x1+w2*x2+b\n",
    "        y = sigmoide(z)\n",
    "        print('x1=',x1,'x2=',x2,'y=',y)"
   ]
  },
  {
   "cell_type": "markdown",
   "id": "4966b58f",
   "metadata": {},
   "source": [
    "### Pour tester la fonction Softmax, nous allons d'abord demander à l'utlisateur de saisir ses entrées."
   ]
  },
  {
   "cell_type": "code",
   "execution_count": 18,
   "id": "95ebc00a",
   "metadata": {},
   "outputs": [
    {
     "name": "stdout",
     "output_type": "stream",
     "text": [
      "Donnez une première valeur réelle:1\n",
      "Donnez une deuxième valeur réelle:2\n",
      "Donnez une troisième valeur réelle:3\n",
      "Les trois valeurs retournées par Softmax sont y1= 0.09 y2= 0.24 y3= 0.67\n"
     ]
    }
   ],
   "source": [
    "t1 = float(input('Donnez une première valeur réelle:'))\n",
    "t2 = float(input('Donnez une deuxième valeur réelle:'))\n",
    "t3 = float(input('Donnez une troisième valeur réelle:'))\n",
    "\n",
    "y1, y2, y3 = softmax(t1, t2, t3)\n",
    "\n",
    "print('Les trois valeurs retournées par Softmax sont y1=',round(y1,2),'y2=',round(y2,2),'y3=',round(y3,2))"
   ]
  },
  {
   "cell_type": "markdown",
   "id": "fefb6016",
   "metadata": {},
   "source": [
    "## <u> Exemple 2 </u>:"
   ]
  },
  {
   "cell_type": "markdown",
   "id": "aa0ce00e",
   "metadata": {},
   "source": [
    "### Dans ce deuxième exemple, nous allons programmer et appliquer l'algorithme de la <font color='red'>descente du gradient</font>  dans le cas où la fonction à minimiser est un polynôme de second degré."
   ]
  },
  {
   "cell_type": "code",
   "execution_count": 69,
   "id": "2f214f64",
   "metadata": {},
   "outputs": [
    {
     "name": "stdout",
     "output_type": "stream",
     "text": [
      "Lecture des coefficients du polynôme.\n",
      "Donnez la valeur de a:3\n",
      "Donnez la valeur de b:2\n",
      "Donnez la valeur de c:1\n",
      "La fonction à minimiser est f(x)= 3.0 x**2+ 2.0 x+ 1.0\n"
     ]
    }
   ],
   "source": [
    "#Nous commençons par définir le polynôme à minimiser\n",
    "print('Lecture des coefficients du polynôme.')\n",
    "a=0\n",
    "while(a<=0):\n",
    "    a = float(input('Donnez la valeur de a:'))\n",
    "b = float(input('Donnez la valeur de b:'))\n",
    "c = float(input('Donnez la valeur de c:'))\n",
    "\n",
    "print('La fonction à minimiser est f(x)=',a,'x**2+',b,'x+',c)\n"
   ]
  },
  {
   "cell_type": "code",
   "execution_count": 74,
   "id": "7c19c51c",
   "metadata": {},
   "outputs": [
    {
     "name": "stdout",
     "output_type": "stream",
     "text": [
      "Lecture des paramètres de la descent.\n",
      "Donnez le nombre maximal d'itérations:1000\n",
      "Donnez la précision de la descente:0.001\n",
      "Donnez le taux d'apprentissage:0.01\n"
     ]
    }
   ],
   "source": [
    "#Ensuite nous demandons à l'utilisateur de donner les paramètres de la descente.\n",
    "print('Lecture des paramètres de la descent.')\n",
    "nb_iter_max = int(input('Donnez le nombre maximal d\\'itérations:'))\n",
    "epsilon =  float(input('Donnez la précision de la descente:'))\n",
    "alpha =  float(input('Donnez le taux d\\'apprentissage:'))"
   ]
  },
  {
   "cell_type": "code",
   "execution_count": 75,
   "id": "cee8d598",
   "metadata": {},
   "outputs": [
    {
     "name": "stdout",
     "output_type": "stream",
     "text": [
      "Convergence au bout de  124  itérations\n",
      "Valeur de x0: -0.33317819018811856\n",
      "Valeur de y0: 0.6666667388748532\n"
     ]
    }
   ],
   "source": [
    "#Enfin application de la descente\n",
    "numiter = 0\n",
    "prec = epsilon+1\n",
    "x0 = 0.0\n",
    "y0 = (lambda x:a*x**2+b*x+c)(x0)\n",
    "\n",
    "while((numiter<nb_iter_max) and (prec>epsilon)):\n",
    "   numiter = numiter+1\n",
    "   valeur_deriv = (lambda x:2*a*x+b)(x0)\n",
    "   prec = abs(valeur_deriv)\n",
    "   x1 = x0-alpha*valeur_deriv\n",
    "   y1 = (lambda x:a*x**2+b*x+c)(x1)\n",
    "   diff = abs(y1-y0)\n",
    "   x0 = x1\n",
    "   y0 = y1\n",
    "\n",
    "print('Convergence au bout de ',numiter,' itérations')\n",
    "print('Valeur de x0:',x0)\n",
    "print('Valeur de y0:',y0)"
   ]
  },
  {
   "cell_type": "code",
   "execution_count": null,
   "id": "dcf1d638",
   "metadata": {},
   "outputs": [],
   "source": []
  }
 ],
 "metadata": {
  "kernelspec": {
   "display_name": "Python 3 (ipykernel)",
   "language": "python",
   "name": "python3"
  },
  "language_info": {
   "codemirror_mode": {
    "name": "ipython",
    "version": 3
   },
   "file_extension": ".py",
   "mimetype": "text/x-python",
   "name": "python",
   "nbconvert_exporter": "python",
   "pygments_lexer": "ipython3",
   "version": "3.10.9"
  }
 },
 "nbformat": 4,
 "nbformat_minor": 5
}
