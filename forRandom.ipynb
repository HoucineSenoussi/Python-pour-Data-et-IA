{
 "cells": [
  {
   "cell_type": "markdown",
   "id": "0e8d73e0",
   "metadata": {},
   "source": [
    "<table>\n",
    "  <tr>\n",
    "    <th style=\"background-color:#ffe694;\">\n",
    "     \n",
    "<font size=6> Manipulation des nombres aléatoires</font>\n",
    "      </th>\n",
    "  </tr>\n",
    "</table>"
   ]
  },
  {
   "cell_type": "markdown",
   "id": "17c04c5b",
   "metadata": {},
   "source": [
    "## Deux modules Python permettent de manipuler des nombres aléatoires: <font color='blue'>random</font> et <font color='blue'>numpy</font>."
   ]
  },
  {
   "cell_type": "markdown",
   "id": "1f90f791",
   "metadata": {},
   "source": [
    "# <u> Commençons par le module  <font color='blue'>random</font></u>"
   ]
  },
  {
   "cell_type": "code",
   "execution_count": 1,
   "id": "26f7f309",
   "metadata": {},
   "outputs": [],
   "source": [
    "import random"
   ]
  },
  {
   "cell_type": "code",
   "execution_count": 2,
   "id": "e76e3bf5",
   "metadata": {},
   "outputs": [
    {
     "data": {
      "text/plain": [
       "0.40188498375317905"
      ]
     },
     "execution_count": 2,
     "metadata": {},
     "output_type": "execute_result"
    }
   ],
   "source": [
    "#Générer un nombre aléatoire compris entre 0 et 1.\n",
    "rnd = random.random()\n",
    "rnd"
   ]
  },
  {
   "cell_type": "code",
   "execution_count": 3,
   "id": "682f8b60",
   "metadata": {},
   "outputs": [
    {
     "data": {
      "text/plain": [
       "7"
      ]
     },
     "execution_count": 3,
     "metadata": {},
     "output_type": "execute_result"
    }
   ],
   "source": [
    "#Générer un entier compris entre n1 et n2-1 (compris)\n",
    "rndi = random.randint(1,10)\n",
    "rndi"
   ]
  },
  {
   "cell_type": "code",
   "execution_count": 4,
   "id": "267dd6d7",
   "metadata": {},
   "outputs": [
    {
     "data": {
      "text/plain": [
       "30"
      ]
     },
     "execution_count": 4,
     "metadata": {},
     "output_type": "execute_result"
    }
   ],
   "source": [
    "#Idem mais en ajoutant un pas (step) se fait de la manière suivante:\n",
    "rndr = random.randrange(0,101,5)\n",
    "rndr"
   ]
  },
  {
   "cell_type": "code",
   "execution_count": 5,
   "id": "4466c54b",
   "metadata": {},
   "outputs": [
    {
     "data": {
      "text/plain": [
       "'e5'"
      ]
     },
     "execution_count": 5,
     "metadata": {},
     "output_type": "execute_result"
    }
   ],
   "source": [
    "#Sélectionner un ou plusieurs éléments (avec remise) dans une liste avec des probabilités éventuellement différentes. On notera\n",
    "#que dans le cas de plusieurs éléments est une liste. \n",
    "l = ['e1', 'e2', 'e3', 'e4', 'e5']\n",
    "chc = random.choice(l)\n",
    "chc"
   ]
  },
  {
   "cell_type": "code",
   "execution_count": 6,
   "id": "7c84c17f",
   "metadata": {},
   "outputs": [
    {
     "data": {
      "text/plain": [
       "['e3', 'e1', 'e4']"
      ]
     },
     "execution_count": 6,
     "metadata": {},
     "output_type": "execute_result"
    }
   ],
   "source": [
    "chcs1 = random.choices(l,k=3)\n",
    "chcs1"
   ]
  },
  {
   "cell_type": "code",
   "execution_count": 7,
   "id": "ed314e86",
   "metadata": {},
   "outputs": [
    {
     "data": {
      "text/plain": [
       "['e4', 'e3', 'e1', 'e4', 'e5', 'e4', 'e5', 'e3', 'e3', 'e3']"
      ]
     },
     "execution_count": 7,
     "metadata": {},
     "output_type": "execute_result"
    }
   ],
   "source": [
    "chcs2 = random.choices(l,k=10)\n",
    "chcs2"
   ]
  },
  {
   "cell_type": "code",
   "execution_count": 8,
   "id": "9ca3470a",
   "metadata": {},
   "outputs": [
    {
     "data": {
      "text/plain": [
       "['e1', 'e2', 'e4', 'e2', 'e2', 'e1', 'e5', 'e3', 'e5', 'e1']"
      ]
     },
     "execution_count": 8,
     "metadata": {},
     "output_type": "execute_result"
    }
   ],
   "source": [
    "chcs3 = random.choices(l, k=10, weights=(2, 2, 1, 1, 1))\n",
    "chcs3"
   ]
  },
  {
   "cell_type": "code",
   "execution_count": 9,
   "id": "064ccd83",
   "metadata": {},
   "outputs": [
    {
     "data": {
      "text/plain": [
       "['e5', 'e2']"
      ]
     },
     "execution_count": 9,
     "metadata": {},
     "output_type": "execute_result"
    }
   ],
   "source": [
    "# On peut aussi imposer à la liste des éléments sélections d'être un échantillon de la liste du départ, i.e. une liste de \n",
    "#plus petite taille, sans répatition\n",
    "smp = random.sample(l, k=2) \n",
    "smp"
   ]
  },
  {
   "cell_type": "code",
   "execution_count": 10,
   "id": "e0ee0116",
   "metadata": {},
   "outputs": [
    {
     "data": {
      "text/plain": [
       "['e2', 'e3', 'e5', 'e4', 'e1']"
      ]
     },
     "execution_count": 10,
     "metadata": {},
     "output_type": "execute_result"
    }
   ],
   "source": [
    "#La fonction permute aléatoirement les éléments d'une liste\n",
    "random.shuffle(l)\n",
    "l"
   ]
  },
  {
   "cell_type": "markdown",
   "id": "a376fc66",
   "metadata": {},
   "source": [
    "# <u> Passons à présent au module  <font color='blue'>numpy</font></u>"
   ]
  },
  {
   "cell_type": "code",
   "execution_count": 11,
   "id": "fb377f5e",
   "metadata": {},
   "outputs": [],
   "source": [
    "import numpy as np"
   ]
  },
  {
   "cell_type": "markdown",
   "id": "23ef5f72",
   "metadata": {},
   "source": [
    "## La première remarque qu'on peut faire est que l'on retrouve dans <font color='blue'>numpy</font></u> des fonctions qui ont le même nom que celles de <font color='blue'>random</font></u> présentées ci-dessus. Ce que ces fonctions apportent de plus est qu'elles génèrent un tableau de valeurs plutôt qu'une seule. Les exemples suivants permettent de l'illustrer."
   ]
  },
  {
   "cell_type": "code",
   "execution_count": 12,
   "id": "bba367e4",
   "metadata": {},
   "outputs": [
    {
     "data": {
      "text/plain": [
       "array([0.09987959, 0.00096187, 0.79988372, 0.25054924, 0.19852194])"
      ]
     },
     "execution_count": 12,
     "metadata": {},
     "output_type": "execute_result"
    }
   ],
   "source": [
    "# La fonction suivante prend 0 ou 1 argument. Elle retourne donc une valeur ou un tableau de valeurs à une seule dimension.\n",
    "tab0 = np.random.random(5)\n",
    "tab0"
   ]
  },
  {
   "cell_type": "code",
   "execution_count": 13,
   "id": "81ad8a10",
   "metadata": {},
   "outputs": [
    {
     "data": {
      "text/plain": [
       "array([0.83368056, 0.36087849, 0.29421219, 0.36861672, 0.57559539,\n",
       "       0.60200515, 0.73164171, 0.9565716 , 0.36284625, 0.28126814])"
      ]
     },
     "execution_count": 13,
     "metadata": {},
     "output_type": "execute_result"
    }
   ],
   "source": [
    "# La fonction suivante peut retourner un tableau à plusieurs dimensions.\n",
    "tab1 = np.random.rand(10)\n",
    "tab1"
   ]
  },
  {
   "cell_type": "code",
   "execution_count": 14,
   "id": "03fcc690",
   "metadata": {},
   "outputs": [
    {
     "data": {
      "text/plain": [
       "array([[[0.32670556, 0.98615174, 0.86576594, 0.25661862, 0.97701893],\n",
       "        [0.68301513, 0.06209606, 0.42334631, 0.29883413, 0.89655858],\n",
       "        [0.43676009, 0.27398093, 0.72130774, 0.63069038, 0.17471168],\n",
       "        [0.22907276, 0.03596554, 0.29126136, 0.69077576, 0.54954294]],\n",
       "\n",
       "       [[0.1277811 , 0.68084991, 0.38752136, 0.00859285, 0.05251456],\n",
       "        [0.84716894, 0.24293283, 0.45725155, 0.19641394, 0.46823834],\n",
       "        [0.17756842, 0.64620583, 0.23801158, 0.55750447, 0.67938472],\n",
       "        [0.31387131, 0.97982031, 0.96868263, 0.3068696 , 0.13093709]],\n",
       "\n",
       "       [[0.34038937, 0.67044079, 0.66522815, 0.87393301, 0.80819427],\n",
       "        [0.03760646, 0.66655785, 0.66189404, 0.64114006, 0.00504794],\n",
       "        [0.89778817, 0.50833434, 0.60150304, 0.54655709, 0.49623407],\n",
       "        [0.01450398, 0.32583039, 0.27081554, 0.89190577, 0.55114005]]])"
      ]
     },
     "execution_count": 14,
     "metadata": {},
     "output_type": "execute_result"
    }
   ],
   "source": [
    "tab2 = np.random.rand(3,4,5)\n",
    "tab2"
   ]
  },
  {
   "cell_type": "code",
   "execution_count": 15,
   "id": "e6ba8662",
   "metadata": {},
   "outputs": [
    {
     "data": {
      "text/plain": [
       "array([[8, 1, 2],\n",
       "       [8, 2, 1],\n",
       "       [5, 1, 5],\n",
       "       [2, 4, 6],\n",
       "       [2, 1, 6]])"
      ]
     },
     "execution_count": 15,
     "metadata": {},
     "output_type": "execute_result"
    }
   ],
   "source": [
    "tab3 = np.random.randint(1,10,[5,3])\n",
    "tab3"
   ]
  },
  {
   "cell_type": "code",
   "execution_count": 16,
   "id": "68453833",
   "metadata": {},
   "outputs": [
    {
     "data": {
      "text/plain": [
       "array([8, 2, 6, 3, 7, 2, 0, 1, 5, 2])"
      ]
     },
     "execution_count": 16,
     "metadata": {},
     "output_type": "execute_result"
    }
   ],
   "source": [
    "tab4 = np.random.choice(range(10), 10, replace=True)\n",
    "tab4"
   ]
  },
  {
   "cell_type": "markdown",
   "id": "cfbb5d6f",
   "metadata": {},
   "source": [
    "## La fonction <font color='blue'>shuffle</font> s'applique aux listes, aux tableaux et à d'autres structures de données."
   ]
  },
  {
   "cell_type": "code",
   "execution_count": 17,
   "id": "ffb4bbda",
   "metadata": {},
   "outputs": [
    {
     "data": {
      "text/plain": [
       "array([[8, 8, 7],\n",
       "       [8, 9, 6],\n",
       "       [1, 7, 6],\n",
       "       [6, 1, 7],\n",
       "       [6, 6, 2]])"
      ]
     },
     "execution_count": 17,
     "metadata": {},
     "output_type": "execute_result"
    }
   ],
   "source": [
    "tab5 = np.array([[6, 1, 7],\n",
    "       [1, 7, 6],\n",
    "       [6, 6, 2],\n",
    "       [8, 9, 6],\n",
    "       [8, 8, 7]])\n",
    "np.random.shuffle(tab5)\n",
    "tab5"
   ]
  },
  {
   "cell_type": "markdown",
   "id": "aacd8c0b",
   "metadata": {},
   "source": [
    "## La fonction <font color='blue'>permutation</font> prend en entrée un entier strictement positif ou une liste."
   ]
  },
  {
   "cell_type": "code",
   "execution_count": 20,
   "id": "bfe91bb9",
   "metadata": {},
   "outputs": [
    {
     "data": {
      "text/plain": [
       "array([1, 0, 4, 2, 3])"
      ]
     },
     "execution_count": 20,
     "metadata": {},
     "output_type": "execute_result"
    }
   ],
   "source": [
    "p1=np.random.permutation(5)\n",
    "p1"
   ]
  },
  {
   "cell_type": "code",
   "execution_count": 22,
   "id": "7dcbe0f3",
   "metadata": {},
   "outputs": [
    {
     "data": {
      "text/plain": [
       "array([4, 7, 1, 8, 5])"
      ]
     },
     "execution_count": 22,
     "metadata": {},
     "output_type": "execute_result"
    }
   ],
   "source": [
    "p2 = np.random.permutation([8, 1, 4, 7, 5])\n",
    "p2"
   ]
  },
  {
   "cell_type": "markdown",
   "id": "241a0751",
   "metadata": {},
   "source": [
    "# <u> Manipulation des  <font color='red'>distributions</font> de probabilités</u> "
   ]
  },
  {
   "cell_type": "markdown",
   "id": "6c62c71b",
   "metadata": {},
   "source": [
    "## Il est possible de générer des nombres aléatoires obéissant à une distribution de probabilité donnée en utilisant <font color='blue'>random</font> ou <font color='blue'>numpy.random</font>. L'avantage de ce dernier étant de pouvoir générer des tableaux plutôt que des valeurs individuelles. "
   ]
  },
  {
   "cell_type": "code",
   "execution_count": 23,
   "id": "1c321085",
   "metadata": {},
   "outputs": [
    {
     "data": {
      "text/plain": [
       "array([[0.38591381, 0.66259315, 0.70981118],\n",
       "       [0.20884545, 0.85540729, 0.67255721],\n",
       "       [0.75847589, 0.28092187, 0.12408421],\n",
       "       [0.16015738, 0.04155343, 0.48799717]])"
      ]
     },
     "execution_count": 23,
     "metadata": {},
     "output_type": "execute_result"
    }
   ],
   "source": [
    "tabu = np.random.uniform(0, 1, (4, 3))\n",
    "tabu"
   ]
  },
  {
   "cell_type": "markdown",
   "id": "49fd4542",
   "metadata": {},
   "source": [
    "# <u> Récapitulatif des mots réservés</u>: \n",
    "## <font color='blue'>random</font>, <font color='blue'>randint</font>, <font color='blue'>randrange</font>, <font color='blue'>choice</font>, <font color='blue'>rand</font>, <font color='blue'>shuffle</font>,\n"
   ]
  },
  {
   "cell_type": "markdown",
   "id": "9018f6e4",
   "metadata": {},
   "source": [
    "# <u> Exercices</u>\n",
    "1. (Bootstrapping)\n",
    "2. (Estimation du nombre Pi par la méthode de Monte-Carlo)\n",
    "3. (Initialisation des poids d'un réseau de neurones)"
   ]
  },
  {
   "cell_type": "code",
   "execution_count": null,
   "id": "4ee1c9e8",
   "metadata": {},
   "outputs": [],
   "source": []
  }
 ],
 "metadata": {
  "kernelspec": {
   "display_name": "Python 3 (ipykernel)",
   "language": "python",
   "name": "python3"
  },
  "language_info": {
   "codemirror_mode": {
    "name": "ipython",
    "version": 3
   },
   "file_extension": ".py",
   "mimetype": "text/x-python",
   "name": "python",
   "nbconvert_exporter": "python",
   "pygments_lexer": "ipython3",
   "version": "3.11.3"
  }
 },
 "nbformat": 4,
 "nbformat_minor": 5
}
